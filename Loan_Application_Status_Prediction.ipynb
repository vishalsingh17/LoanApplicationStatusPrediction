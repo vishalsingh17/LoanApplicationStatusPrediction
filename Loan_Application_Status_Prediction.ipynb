{
  "nbformat": 4,
  "nbformat_minor": 0,
  "metadata": {
    "colab": {
      "name": "Loan Application Status Prediction.ipynb",
      "provenance": [],
      "collapsed_sections": []
    },
    "kernelspec": {
      "name": "python3",
      "display_name": "Python 3"
    },
    "language_info": {
      "name": "python"
    }
  },
  "cells": [
    {
      "cell_type": "markdown",
      "metadata": {
        "id": "Ddr9TQ83qOJz"
      },
      "source": [
        "# **Loan Application Status Prediction**"
      ]
    },
    {
      "cell_type": "markdown",
      "metadata": {
        "id": "apFGqrYNVMfI"
      },
      "source": [
        "### **Problem stmt: **\n",
        "\n",
        "This dataset includes details of applicants who have applied for loan. The dataset includes details like credit history, loan amount, their income, dependents etc. \n",
        "\n",
        "have to build a model that can predict whether the loan of the applicant will be approved or not on the basis of the details provided in the dataset. "
      ]
    },
    {
      "cell_type": "markdown",
      "metadata": {
        "id": "QH6ofLzQFIAA"
      },
      "source": [
        "## **1. Dataset loading**"
      ]
    },
    {
      "cell_type": "code",
      "metadata": {
        "id": "ebQESAm1k9vM"
      },
      "source": [
        "import pandas as pd\n",
        "import numpy as np\n",
        "import matplotlib.pyplot as plt\n",
        "import seaborn as sns"
      ],
      "execution_count": 155,
      "outputs": []
    },
    {
      "cell_type": "code",
      "metadata": {
        "id": "789nrnPJlTLk"
      },
      "source": [
        "import warnings\n",
        "warnings.filterwarnings('ignore')"
      ],
      "execution_count": 156,
      "outputs": []
    },
    {
      "cell_type": "code",
      "metadata": {
        "id": "ulC6hCEalVKo"
      },
      "source": [
        "df=pd.read_csv(\"https://raw.githubusercontent.com/dsrscientist/DSData/master/loan_prediction.csv\")"
      ],
      "execution_count": 189,
      "outputs": []
    },
    {
      "cell_type": "code",
      "metadata": {
        "colab": {
          "base_uri": "https://localhost:8080/",
          "height": 200
        },
        "id": "Xgqx_vCwlcxq",
        "outputId": "05594f36-cf7d-49d4-a768-37919215b556"
      },
      "source": [
        "df.head()"
      ],
      "execution_count": 158,
      "outputs": [
        {
          "output_type": "execute_result",
          "data": {
            "text/html": [
              "<div>\n",
              "<style scoped>\n",
              "    .dataframe tbody tr th:only-of-type {\n",
              "        vertical-align: middle;\n",
              "    }\n",
              "\n",
              "    .dataframe tbody tr th {\n",
              "        vertical-align: top;\n",
              "    }\n",
              "\n",
              "    .dataframe thead th {\n",
              "        text-align: right;\n",
              "    }\n",
              "</style>\n",
              "<table border=\"1\" class=\"dataframe\">\n",
              "  <thead>\n",
              "    <tr style=\"text-align: right;\">\n",
              "      <th></th>\n",
              "      <th>Loan_ID</th>\n",
              "      <th>Gender</th>\n",
              "      <th>Married</th>\n",
              "      <th>Dependents</th>\n",
              "      <th>Education</th>\n",
              "      <th>Self_Employed</th>\n",
              "      <th>ApplicantIncome</th>\n",
              "      <th>CoapplicantIncome</th>\n",
              "      <th>LoanAmount</th>\n",
              "      <th>Loan_Amount_Term</th>\n",
              "      <th>Credit_History</th>\n",
              "      <th>Property_Area</th>\n",
              "      <th>Loan_Status</th>\n",
              "    </tr>\n",
              "  </thead>\n",
              "  <tbody>\n",
              "    <tr>\n",
              "      <th>0</th>\n",
              "      <td>LP001002</td>\n",
              "      <td>Male</td>\n",
              "      <td>No</td>\n",
              "      <td>0</td>\n",
              "      <td>Graduate</td>\n",
              "      <td>No</td>\n",
              "      <td>5849</td>\n",
              "      <td>0.0</td>\n",
              "      <td>NaN</td>\n",
              "      <td>360.0</td>\n",
              "      <td>1.0</td>\n",
              "      <td>Urban</td>\n",
              "      <td>Y</td>\n",
              "    </tr>\n",
              "    <tr>\n",
              "      <th>1</th>\n",
              "      <td>LP001003</td>\n",
              "      <td>Male</td>\n",
              "      <td>Yes</td>\n",
              "      <td>1</td>\n",
              "      <td>Graduate</td>\n",
              "      <td>No</td>\n",
              "      <td>4583</td>\n",
              "      <td>1508.0</td>\n",
              "      <td>128.0</td>\n",
              "      <td>360.0</td>\n",
              "      <td>1.0</td>\n",
              "      <td>Rural</td>\n",
              "      <td>N</td>\n",
              "    </tr>\n",
              "    <tr>\n",
              "      <th>2</th>\n",
              "      <td>LP001005</td>\n",
              "      <td>Male</td>\n",
              "      <td>Yes</td>\n",
              "      <td>0</td>\n",
              "      <td>Graduate</td>\n",
              "      <td>Yes</td>\n",
              "      <td>3000</td>\n",
              "      <td>0.0</td>\n",
              "      <td>66.0</td>\n",
              "      <td>360.0</td>\n",
              "      <td>1.0</td>\n",
              "      <td>Urban</td>\n",
              "      <td>Y</td>\n",
              "    </tr>\n",
              "    <tr>\n",
              "      <th>3</th>\n",
              "      <td>LP001006</td>\n",
              "      <td>Male</td>\n",
              "      <td>Yes</td>\n",
              "      <td>0</td>\n",
              "      <td>Not Graduate</td>\n",
              "      <td>No</td>\n",
              "      <td>2583</td>\n",
              "      <td>2358.0</td>\n",
              "      <td>120.0</td>\n",
              "      <td>360.0</td>\n",
              "      <td>1.0</td>\n",
              "      <td>Urban</td>\n",
              "      <td>Y</td>\n",
              "    </tr>\n",
              "    <tr>\n",
              "      <th>4</th>\n",
              "      <td>LP001008</td>\n",
              "      <td>Male</td>\n",
              "      <td>No</td>\n",
              "      <td>0</td>\n",
              "      <td>Graduate</td>\n",
              "      <td>No</td>\n",
              "      <td>6000</td>\n",
              "      <td>0.0</td>\n",
              "      <td>141.0</td>\n",
              "      <td>360.0</td>\n",
              "      <td>1.0</td>\n",
              "      <td>Urban</td>\n",
              "      <td>Y</td>\n",
              "    </tr>\n",
              "  </tbody>\n",
              "</table>\n",
              "</div>"
            ],
            "text/plain": [
              "    Loan_ID Gender Married  ... Credit_History Property_Area Loan_Status\n",
              "0  LP001002   Male      No  ...            1.0         Urban           Y\n",
              "1  LP001003   Male     Yes  ...            1.0         Rural           N\n",
              "2  LP001005   Male     Yes  ...            1.0         Urban           Y\n",
              "3  LP001006   Male     Yes  ...            1.0         Urban           Y\n",
              "4  LP001008   Male      No  ...            1.0         Urban           Y\n",
              "\n",
              "[5 rows x 13 columns]"
            ]
          },
          "metadata": {
            "tags": []
          },
          "execution_count": 158
        }
      ]
    },
    {
      "cell_type": "markdown",
      "metadata": {
        "id": "HRkV4BIXFQwp"
      },
      "source": [
        "## **2.Checking basic details**"
      ]
    },
    {
      "cell_type": "markdown",
      "metadata": {
        "id": "Yc-J2uZGFUrY"
      },
      "source": [
        "### Removing irrelavent columns"
      ]
    },
    {
      "cell_type": "code",
      "metadata": {
        "id": "epsmloUgASVM"
      },
      "source": [
        "df.drop(['Loan_ID'],axis=1,inplace=True) "
      ],
      "execution_count": 190,
      "outputs": []
    },
    {
      "cell_type": "code",
      "metadata": {
        "id": "Xu_V34Lhldyz",
        "colab": {
          "base_uri": "https://localhost:8080/"
        },
        "outputId": "a26636dd-722a-4944-a2c8-eac7af7802c8"
      },
      "source": [
        "df.info()"
      ],
      "execution_count": 160,
      "outputs": [
        {
          "output_type": "stream",
          "text": [
            "<class 'pandas.core.frame.DataFrame'>\n",
            "RangeIndex: 614 entries, 0 to 613\n",
            "Data columns (total 12 columns):\n",
            " #   Column             Non-Null Count  Dtype  \n",
            "---  ------             --------------  -----  \n",
            " 0   Gender             601 non-null    object \n",
            " 1   Married            611 non-null    object \n",
            " 2   Dependents         599 non-null    object \n",
            " 3   Education          614 non-null    object \n",
            " 4   Self_Employed      582 non-null    object \n",
            " 5   ApplicantIncome    614 non-null    int64  \n",
            " 6   CoapplicantIncome  614 non-null    float64\n",
            " 7   LoanAmount         592 non-null    float64\n",
            " 8   Loan_Amount_Term   600 non-null    float64\n",
            " 9   Credit_History     564 non-null    float64\n",
            " 10  Property_Area      614 non-null    object \n",
            " 11  Loan_Status        614 non-null    object \n",
            "dtypes: float64(4), int64(1), object(7)\n",
            "memory usage: 57.7+ KB\n"
          ],
          "name": "stdout"
        }
      ]
    },
    {
      "cell_type": "code",
      "metadata": {
        "colab": {
          "base_uri": "https://localhost:8080/"
        },
        "id": "dUdfBEGzRKCV",
        "outputId": "4f6b3fbe-3352-4556-bea9-79562eca49eb"
      },
      "source": [
        "df.shape"
      ],
      "execution_count": 161,
      "outputs": [
        {
          "output_type": "execute_result",
          "data": {
            "text/plain": [
              "(614, 12)"
            ]
          },
          "metadata": {
            "tags": []
          },
          "execution_count": 161
        }
      ]
    },
    {
      "cell_type": "code",
      "metadata": {
        "colab": {
          "base_uri": "https://localhost:8080/"
        },
        "id": "MjBFt_HKQm8K",
        "outputId": "185a3387-2a8b-4060-b88e-1be61a54e324"
      },
      "source": [
        "print(df.isnull().sum())"
      ],
      "execution_count": 162,
      "outputs": [
        {
          "output_type": "stream",
          "text": [
            "Gender               13\n",
            "Married               3\n",
            "Dependents           15\n",
            "Education             0\n",
            "Self_Employed        32\n",
            "ApplicantIncome       0\n",
            "CoapplicantIncome     0\n",
            "LoanAmount           22\n",
            "Loan_Amount_Term     14\n",
            "Credit_History       50\n",
            "Property_Area         0\n",
            "Loan_Status           0\n",
            "dtype: int64\n"
          ],
          "name": "stdout"
        }
      ]
    },
    {
      "cell_type": "markdown",
      "metadata": {
        "id": "ifvmJ98GFY02"
      },
      "source": [
        "**Replacing null values with mean and mode values**"
      ]
    },
    {
      "cell_type": "code",
      "metadata": {
        "id": "qjBtxxRMBYf7"
      },
      "source": [
        "df['LoanAmount']=df['LoanAmount'].fillna(df['LoanAmount'].mean())\n",
        "df['Loan_Amount_Term']=df['Loan_Amount_Term'].fillna(df['Loan_Amount_Term'].mean())\n",
        "df['Credit_History']=df['Credit_History'].fillna(df['Credit_History'].mode())"
      ],
      "execution_count": 191,
      "outputs": []
    },
    {
      "cell_type": "code",
      "metadata": {
        "id": "t6QpCSN8RD1Q"
      },
      "source": [
        "#Filling Null Values\n",
        "df['Dependents'].fillna(value=df['Dependents'].mode()[0],inplace=True)\n",
        "df['Gender'].fillna(value=df['Gender'].mode()[0],inplace=True)\n",
        "df['Married'].fillna(value=df['Married'].mode()[0],inplace=True)\n",
        "df['Self_Employed'].fillna(value=df['Self_Employed'].mode()[0],inplace=True)\n"
      ],
      "execution_count": 164,
      "outputs": []
    },
    {
      "cell_type": "code",
      "metadata": {
        "colab": {
          "base_uri": "https://localhost:8080/"
        },
        "id": "17n7qMd0BVX_",
        "outputId": "0c914146-2f18-4d7f-acab-494aa26ba2dd"
      },
      "source": [
        "print(df.isnull().sum())"
      ],
      "execution_count": 165,
      "outputs": [
        {
          "output_type": "stream",
          "text": [
            "Gender               0\n",
            "Married              0\n",
            "Dependents           0\n",
            "Education            0\n",
            "Self_Employed        0\n",
            "ApplicantIncome      0\n",
            "CoapplicantIncome    0\n",
            "LoanAmount           0\n",
            "Loan_Amount_Term     0\n",
            "Credit_History       0\n",
            "Property_Area        0\n",
            "Loan_Status          0\n",
            "dtype: int64\n"
          ],
          "name": "stdout"
        }
      ]
    },
    {
      "cell_type": "code",
      "metadata": {
        "colab": {
          "base_uri": "https://localhost:8080/"
        },
        "id": "qjHRxYqaC_Pb",
        "outputId": "d6525c09-7fdc-448a-bde4-5a595e1764a3"
      },
      "source": [
        "df.info()"
      ],
      "execution_count": 166,
      "outputs": [
        {
          "output_type": "stream",
          "text": [
            "<class 'pandas.core.frame.DataFrame'>\n",
            "RangeIndex: 614 entries, 0 to 613\n",
            "Data columns (total 12 columns):\n",
            " #   Column             Non-Null Count  Dtype  \n",
            "---  ------             --------------  -----  \n",
            " 0   Gender             614 non-null    object \n",
            " 1   Married            614 non-null    object \n",
            " 2   Dependents         614 non-null    object \n",
            " 3   Education          614 non-null    object \n",
            " 4   Self_Employed      614 non-null    object \n",
            " 5   ApplicantIncome    614 non-null    int64  \n",
            " 6   CoapplicantIncome  614 non-null    float64\n",
            " 7   LoanAmount         614 non-null    float64\n",
            " 8   Loan_Amount_Term   614 non-null    float64\n",
            " 9   Credit_History     614 non-null    float64\n",
            " 10  Property_Area      614 non-null    object \n",
            " 11  Loan_Status        614 non-null    object \n",
            "dtypes: float64(4), int64(1), object(7)\n",
            "memory usage: 57.7+ KB\n"
          ],
          "name": "stdout"
        }
      ]
    },
    {
      "cell_type": "markdown",
      "metadata": {
        "id": "2XZhTe4TFk1L"
      },
      "source": [
        "## **3.EDA**"
      ]
    },
    {
      "cell_type": "code",
      "metadata": {
        "colab": {
          "base_uri": "https://localhost:8080/",
          "height": 377
        },
        "id": "I2upcKtLQiY9",
        "outputId": "ac842edd-0d0b-4e65-83bf-d360ab70548a"
      },
      "source": [
        "sns.countplot(x='Self_Employed',hue='Loan_Status',data=df)"
      ],
      "execution_count": 172,
      "outputs": [
        {
          "output_type": "execute_result",
          "data": {
            "text/plain": [
              "<matplotlib.axes._subplots.AxesSubplot at 0x7fe72fc45a10>"
            ]
          },
          "metadata": {
            "tags": []
          },
          "execution_count": 172
        },
        {
          "output_type": "display_data",
          "data": {
            "image/png": "[encoded data removed]",
            "text/plain": [
              "<Figure size 576x396 with 1 Axes>"
            ]
          },
          "metadata": {
            "tags": []
          }
        }
      ]
    },
    {
      "cell_type": "markdown",
      "metadata": {
        "id": "ZNb2UfbmQosu"
      },
      "source": [
        "most of the data we have from not employed person\n",
        "Here we see if the person is not self employed there is high chances of approval"
      ]
    },
    {
      "cell_type": "code",
      "metadata": {
        "colab": {
          "base_uri": "https://localhost:8080/",
          "height": 377
        },
        "id": "KLdi0XCcQfTB",
        "outputId": "8cefc825-e188-410a-f793-9f5d47c2a67a"
      },
      "source": [
        "sns.countplot(x='Loan_Amount_Term',hue='Loan_Status',data=df)"
      ],
      "execution_count": 171,
      "outputs": [
        {
          "output_type": "execute_result",
          "data": {
            "text/plain": [
              "<matplotlib.axes._subplots.AxesSubplot at 0x7fe72fd21950>"
            ]
          },
          "metadata": {
            "tags": []
          },
          "execution_count": 171
        },
        {
          "output_type": "display_data",
          "data": {
            "image/png": "[encoded data removed]",
            "text/plain": [
              "<Figure size 576x396 with 1 Axes>"
            ]
          },
          "metadata": {
            "tags": []
          }
        }
      ]
    },
    {
      "cell_type": "markdown",
      "metadata": {
        "id": "Fn3XWoB8QtSw"
      },
      "source": [
        "Most of the people who applied for loan asked for 360 months of term more half are getting approved\n",
        "People those are taking loan for 480 months, most of them are getting approval"
      ]
    },
    {
      "cell_type": "code",
      "metadata": {
        "colab": {
          "base_uri": "https://localhost:8080/",
          "height": 377
        },
        "id": "jdbHD8QfQcqz",
        "outputId": "792acfef-c90a-4491-f4b4-f7c077e9e4f7"
      },
      "source": [
        "sns.countplot(x='Credit_History',hue='Loan_Status',data=df)"
      ],
      "execution_count": 192,
      "outputs": [
        {
          "output_type": "execute_result",
          "data": {
            "text/plain": [
              "<matplotlib.axes._subplots.AxesSubplot at 0x7fe72f2f5650>"
            ]
          },
          "metadata": {
            "tags": []
          },
          "execution_count": 192
        },
        {
          "output_type": "display_data",
          "data": {
            "image/png": "[encoded data removed]",
            "text/plain": [
              "<Figure size 576x396 with 1 Axes>"
            ]
          },
          "metadata": {
            "tags": []
          }
        }
      ]
    },
    {
      "cell_type": "code",
      "metadata": {
        "colab": {
          "base_uri": "https://localhost:8080/",
          "height": 377
        },
        "id": "cQC2dXX5Qw1Y",
        "outputId": "5a8e2739-a21d-4386-ede7-6d7a8febc9a2"
      },
      "source": [
        "sns.countplot(x='Dependents',hue='Loan_Status',data=df)"
      ],
      "execution_count": 173,
      "outputs": [
        {
          "output_type": "execute_result",
          "data": {
            "text/plain": [
              "<matplotlib.axes._subplots.AxesSubplot at 0x7fe72fe05590>"
            ]
          },
          "metadata": {
            "tags": []
          },
          "execution_count": 173
        },
        {
          "output_type": "display_data",
          "data": {
            "image/png": "[encoded data removed]",
            "text/plain": [
              "<Figure size 576x396 with 1 Axes>"
            ]
          },
          "metadata": {
            "tags": []
          }
        }
      ]
    },
    {
      "cell_type": "markdown",
      "metadata": {
        "id": "OCeHyAMqQ1Wz"
      },
      "source": [
        "We can notice people those are not having dependents are getting chances of Loan approval"
      ]
    },
    {
      "cell_type": "code",
      "metadata": {
        "colab": {
          "base_uri": "https://localhost:8080/",
          "height": 377
        },
        "id": "pe52-mbEQZ_o",
        "outputId": "dcdfda99-c6ff-4c39-df78-0aac2cfe7725"
      },
      "source": [
        "sns.countplot(x='Property_Area',hue='Loan_Status',data=df)"
      ],
      "execution_count": 169,
      "outputs": [
        {
          "output_type": "execute_result",
          "data": {
            "text/plain": [
              "<matplotlib.axes._subplots.AxesSubplot at 0x7fe72fda2f10>"
            ]
          },
          "metadata": {
            "tags": []
          },
          "execution_count": 169
        },
        {
          "output_type": "display_data",
          "data": {
            "image/png": "[encoded data removed]",
            "text/plain": [
              "<Figure size 576x396 with 1 Axes>"
            ]
          },
          "metadata": {
            "tags": []
          }
        }
      ]
    },
    {
      "cell_type": "code",
      "metadata": {
        "id": "qSvOSOL0DAxy",
        "colab": {
          "base_uri": "https://localhost:8080/",
          "height": 377
        },
        "outputId": "159c6848-7021-4eeb-8037-36a229888cf7"
      },
      "source": [
        "sns.barplot(y='ApplicantIncome',x='Loan_Status',data=df)"
      ],
      "execution_count": 167,
      "outputs": [
        {
          "output_type": "execute_result",
          "data": {
            "text/plain": [
              "<matplotlib.axes._subplots.AxesSubplot at 0x7fe72fe72450>"
            ]
          },
          "metadata": {
            "tags": []
          },
          "execution_count": 167
        },
        {
          "output_type": "display_data",
          "data": {
            "image/png": "[encoded data removed]",
            "text/plain": [
              "<Figure size 576x396 with 1 Axes>"
            ]
          },
          "metadata": {
            "tags": []
          }
        }
      ]
    },
    {
      "cell_type": "code",
      "metadata": {
        "id": "Ahhday0PDQgR",
        "colab": {
          "base_uri": "https://localhost:8080/",
          "height": 377
        },
        "outputId": "eb6d8492-2521-426f-c086-6d1b397cd65e"
      },
      "source": [
        "sns.barplot(y='CoapplicantIncome',x='Loan_Status',data=df)"
      ],
      "execution_count": 168,
      "outputs": [
        {
          "output_type": "execute_result",
          "data": {
            "text/plain": [
              "<matplotlib.axes._subplots.AxesSubplot at 0x7fe72fe42a10>"
            ]
          },
          "metadata": {
            "tags": []
          },
          "execution_count": 168
        },
        {
          "output_type": "display_data",
          "data": {
            "image/png": "[encoded data removed]",
            "text/plain": [
              "<Figure size 576x396 with 1 Axes>"
            ]
          },
          "metadata": {
            "tags": []
          }
        }
      ]
    },
    {
      "cell_type": "code",
      "metadata": {
        "id": "sshvuNGPDQao",
        "colab": {
          "base_uri": "https://localhost:8080/",
          "height": 363
        },
        "outputId": "e272a32c-ba19-40c8-e1d3-ee589890774e"
      },
      "source": [
        "df['LoanAmount'].hist(bins=50)"
      ],
      "execution_count": 181,
      "outputs": [
        {
          "output_type": "execute_result",
          "data": {
            "text/plain": [
              "<matplotlib.axes._subplots.AxesSubplot at 0x7fe72eeb3350>"
            ]
          },
          "metadata": {
            "tags": []
          },
          "execution_count": 181
        },
        {
          "output_type": "display_data",
          "data": {
            "image/png": "[encoded data removed]",
            "text/plain": [
              "<Figure size 576x396 with 1 Axes>"
            ]
          },
          "metadata": {
            "tags": []
          }
        }
      ]
    },
    {
      "cell_type": "code",
      "metadata": {
        "id": "Pxz-_k9ZT8xc",
        "outputId": "4deaae34-c89c-47e6-9ea7-1f925db76b3b",
        "colab": {
          "base_uri": "https://localhost:8080/",
          "height": 411
        }
      },
      "source": [
        "df_corr=df.apply(lambda x : pd.factorize(x)[0]).corr(method='pearson', min_periods=1)\n",
        "df_corr"
      ],
      "execution_count": 185,
      "outputs": [
        {
          "output_type": "execute_result",
          "data": {
            "text/html": [
              "<div>\n",
              "<style scoped>\n",
              "    .dataframe tbody tr th:only-of-type {\n",
              "        vertical-align: middle;\n",
              "    }\n",
              "\n",
              "    .dataframe tbody tr th {\n",
              "        vertical-align: top;\n",
              "    }\n",
              "\n",
              "    .dataframe thead th {\n",
              "        text-align: right;\n",
              "    }\n",
              "</style>\n",
              "<table border=\"1\" class=\"dataframe\">\n",
              "  <thead>\n",
              "    <tr style=\"text-align: right;\">\n",
              "      <th></th>\n",
              "      <th>Gender</th>\n",
              "      <th>Married</th>\n",
              "      <th>Dependents</th>\n",
              "      <th>Education</th>\n",
              "      <th>Self_Employed</th>\n",
              "      <th>ApplicantIncome</th>\n",
              "      <th>CoapplicantIncome</th>\n",
              "      <th>LoanAmount</th>\n",
              "      <th>Loan_Amount_Term</th>\n",
              "      <th>Credit_History</th>\n",
              "      <th>Property_Area</th>\n",
              "      <th>Loan_Status</th>\n",
              "    </tr>\n",
              "  </thead>\n",
              "  <tbody>\n",
              "    <tr>\n",
              "      <th>Gender</th>\n",
              "      <td>1.000000</td>\n",
              "      <td>-0.364569</td>\n",
              "      <td>-0.172914</td>\n",
              "      <td>-0.045364</td>\n",
              "      <td>0.000525</td>\n",
              "      <td>0.005853</td>\n",
              "      <td>-0.172693</td>\n",
              "      <td>0.030239</td>\n",
              "      <td>-0.031319</td>\n",
              "      <td>0.031121</td>\n",
              "      <td>0.082045</td>\n",
              "      <td>0.017987</td>\n",
              "    </tr>\n",
              "    <tr>\n",
              "      <th>Married</th>\n",
              "      <td>-0.364569</td>\n",
              "      <td>1.000000</td>\n",
              "      <td>0.334216</td>\n",
              "      <td>0.012304</td>\n",
              "      <td>0.004489</td>\n",
              "      <td>-0.003163</td>\n",
              "      <td>0.233224</td>\n",
              "      <td>0.003281</td>\n",
              "      <td>0.028283</td>\n",
              "      <td>0.031057</td>\n",
              "      <td>0.003071</td>\n",
              "      <td>-0.091478</td>\n",
              "    </tr>\n",
              "    <tr>\n",
              "      <th>Dependents</th>\n",
              "      <td>-0.172914</td>\n",
              "      <td>0.334216</td>\n",
              "      <td>1.000000</td>\n",
              "      <td>0.055752</td>\n",
              "      <td>0.056798</td>\n",
              "      <td>0.079403</td>\n",
              "      <td>-0.007295</td>\n",
              "      <td>0.053924</td>\n",
              "      <td>0.056024</td>\n",
              "      <td>0.000862</td>\n",
              "      <td>0.001781</td>\n",
              "      <td>-0.010118</td>\n",
              "    </tr>\n",
              "    <tr>\n",
              "      <th>Education</th>\n",
              "      <td>-0.045364</td>\n",
              "      <td>0.012304</td>\n",
              "      <td>0.055752</td>\n",
              "      <td>1.000000</td>\n",
              "      <td>-0.010383</td>\n",
              "      <td>0.073543</td>\n",
              "      <td>0.084689</td>\n",
              "      <td>-0.072995</td>\n",
              "      <td>0.078645</td>\n",
              "      <td>0.069148</td>\n",
              "      <td>-0.003592</td>\n",
              "      <td>0.085884</td>\n",
              "    </tr>\n",
              "    <tr>\n",
              "      <th>Self_Employed</th>\n",
              "      <td>0.000525</td>\n",
              "      <td>0.004489</td>\n",
              "      <td>0.056798</td>\n",
              "      <td>-0.010383</td>\n",
              "      <td>1.000000</td>\n",
              "      <td>0.005906</td>\n",
              "      <td>-0.080509</td>\n",
              "      <td>-0.008925</td>\n",
              "      <td>0.008366</td>\n",
              "      <td>0.005927</td>\n",
              "      <td>0.021996</td>\n",
              "      <td>0.003700</td>\n",
              "    </tr>\n",
              "    <tr>\n",
              "      <th>ApplicantIncome</th>\n",
              "      <td>0.005853</td>\n",
              "      <td>-0.003163</td>\n",
              "      <td>0.079403</td>\n",
              "      <td>0.073543</td>\n",
              "      <td>0.005906</td>\n",
              "      <td>1.000000</td>\n",
              "      <td>0.378095</td>\n",
              "      <td>0.365594</td>\n",
              "      <td>-0.013189</td>\n",
              "      <td>0.036718</td>\n",
              "      <td>0.078590</td>\n",
              "      <td>-0.018675</td>\n",
              "    </tr>\n",
              "    <tr>\n",
              "      <th>CoapplicantIncome</th>\n",
              "      <td>-0.172693</td>\n",
              "      <td>0.233224</td>\n",
              "      <td>-0.007295</td>\n",
              "      <td>0.084689</td>\n",
              "      <td>-0.080509</td>\n",
              "      <td>0.378095</td>\n",
              "      <td>1.000000</td>\n",
              "      <td>0.203701</td>\n",
              "      <td>0.060137</td>\n",
              "      <td>0.051218</td>\n",
              "      <td>0.018346</td>\n",
              "      <td>-0.084419</td>\n",
              "    </tr>\n",
              "    <tr>\n",
              "      <th>LoanAmount</th>\n",
              "      <td>0.030239</td>\n",
              "      <td>0.003281</td>\n",
              "      <td>0.053924</td>\n",
              "      <td>-0.072995</td>\n",
              "      <td>-0.008925</td>\n",
              "      <td>0.365594</td>\n",
              "      <td>0.203701</td>\n",
              "      <td>1.000000</td>\n",
              "      <td>0.020456</td>\n",
              "      <td>0.045040</td>\n",
              "      <td>0.114591</td>\n",
              "      <td>0.040160</td>\n",
              "    </tr>\n",
              "    <tr>\n",
              "      <th>Loan_Amount_Term</th>\n",
              "      <td>-0.031319</td>\n",
              "      <td>0.028283</td>\n",
              "      <td>0.056024</td>\n",
              "      <td>0.078645</td>\n",
              "      <td>0.008366</td>\n",
              "      <td>-0.013189</td>\n",
              "      <td>0.060137</td>\n",
              "      <td>0.020456</td>\n",
              "      <td>1.000000</td>\n",
              "      <td>0.075963</td>\n",
              "      <td>-0.066941</td>\n",
              "      <td>0.085191</td>\n",
              "    </tr>\n",
              "    <tr>\n",
              "      <th>Credit_History</th>\n",
              "      <td>0.031121</td>\n",
              "      <td>0.031057</td>\n",
              "      <td>0.000862</td>\n",
              "      <td>0.069148</td>\n",
              "      <td>0.005927</td>\n",
              "      <td>0.036718</td>\n",
              "      <td>0.051218</td>\n",
              "      <td>0.045040</td>\n",
              "      <td>0.075963</td>\n",
              "      <td>1.000000</td>\n",
              "      <td>-0.058622</td>\n",
              "      <td>0.280181</td>\n",
              "    </tr>\n",
              "    <tr>\n",
              "      <th>Property_Area</th>\n",
              "      <td>0.082045</td>\n",
              "      <td>0.003071</td>\n",
              "      <td>0.001781</td>\n",
              "      <td>-0.003592</td>\n",
              "      <td>0.021996</td>\n",
              "      <td>0.078590</td>\n",
              "      <td>0.018346</td>\n",
              "      <td>0.114591</td>\n",
              "      <td>-0.066941</td>\n",
              "      <td>-0.058622</td>\n",
              "      <td>1.000000</td>\n",
              "      <td>-0.103253</td>\n",
              "    </tr>\n",
              "    <tr>\n",
              "      <th>Loan_Status</th>\n",
              "      <td>0.017987</td>\n",
              "      <td>-0.091478</td>\n",
              "      <td>-0.010118</td>\n",
              "      <td>0.085884</td>\n",
              "      <td>0.003700</td>\n",
              "      <td>-0.018675</td>\n",
              "      <td>-0.084419</td>\n",
              "      <td>0.040160</td>\n",
              "      <td>0.085191</td>\n",
              "      <td>0.280181</td>\n",
              "      <td>-0.103253</td>\n",
              "      <td>1.000000</td>\n",
              "    </tr>\n",
              "  </tbody>\n",
              "</table>\n",
              "</div>"
            ],
            "text/plain": [
              "                     Gender   Married  ...  Property_Area  Loan_Status\n",
              "Gender             1.000000 -0.364569  ...       0.082045     0.017987\n",
              "Married           -0.364569  1.000000  ...       0.003071    -0.091478\n",
              "Dependents        -0.172914  0.334216  ...       0.001781    -0.010118\n",
              "Education         -0.045364  0.012304  ...      -0.003592     0.085884\n",
              "Self_Employed      0.000525  0.004489  ...       0.021996     0.003700\n",
              "ApplicantIncome    0.005853 -0.003163  ...       0.078590    -0.018675\n",
              "CoapplicantIncome -0.172693  0.233224  ...       0.018346    -0.084419\n",
              "LoanAmount         0.030239  0.003281  ...       0.114591     0.040160\n",
              "Loan_Amount_Term  -0.031319  0.028283  ...      -0.066941     0.085191\n",
              "Credit_History     0.031121  0.031057  ...      -0.058622     0.280181\n",
              "Property_Area      0.082045  0.003071  ...       1.000000    -0.103253\n",
              "Loan_Status        0.017987 -0.091478  ...      -0.103253     1.000000\n",
              "\n",
              "[12 rows x 12 columns]"
            ]
          },
          "metadata": {
            "tags": []
          },
          "execution_count": 185
        }
      ]
    },
    {
      "cell_type": "code",
      "metadata": {
        "colab": {
          "base_uri": "https://localhost:8080/",
          "height": 611
        },
        "id": "qPHQPJwJSECe",
        "outputId": "ba8bf98c-d929-4518-9a0b-0000e87c936c"
      },
      "source": [
        "plt.figure(figsize=[24,10])\n",
        "sns.heatmap(df_corr)"
      ],
      "execution_count": 186,
      "outputs": [
        {
          "output_type": "execute_result",
          "data": {
            "text/plain": [
              "<matplotlib.axes._subplots.AxesSubplot at 0x7fe72fa157d0>"
            ]
          },
          "metadata": {
            "tags": []
          },
          "execution_count": 186
        },
        {
          "output_type": "display_data",
          "data": {
            "image/png": "[encoded data removed]",
            "text/plain": [
              "<Figure size 1728x720 with 2 Axes>"
            ]
          },
          "metadata": {
            "tags": []
          }
        }
      ]
    },
    {
      "cell_type": "markdown",
      "metadata": {
        "id": "6aziCAWJF5Io"
      },
      "source": [
        "## **4. Data pre-processing**"
      ]
    },
    {
      "cell_type": "code",
      "metadata": {
        "colab": {
          "base_uri": "https://localhost:8080/"
        },
        "id": "HDjhp9fFDSRJ",
        "outputId": "d5a66708-4bbe-4adf-e1ee-5566c184efc6"
      },
      "source": [
        "print(df.isnull().sum())"
      ],
      "execution_count": 14,
      "outputs": [
        {
          "output_type": "stream",
          "text": [
            "Gender               0\n",
            "Married              0\n",
            "Dependents           0\n",
            "Education            0\n",
            "Self_Employed        0\n",
            "ApplicantIncome      0\n",
            "CoapplicantIncome    0\n",
            "LoanAmount           0\n",
            "Loan_Amount_Term     0\n",
            "Credit_History       0\n",
            "Property_Area        0\n",
            "Loan_Status          0\n",
            "dtype: int64\n"
          ],
          "name": "stdout"
        }
      ]
    },
    {
      "cell_type": "markdown",
      "metadata": {
        "id": "ckfrgOlIGAy4"
      },
      "source": [
        "**Encoding**"
      ]
    },
    {
      "cell_type": "code",
      "metadata": {
        "id": "A8mMJjghDviJ"
      },
      "source": [
        "from sklearn.preprocessing import LabelEncoder\n",
        "LE=LabelEncoder()\n",
        "df['Education']=LE.fit_transform(df['Education'])\n",
        "df['Gender']=LE.fit_transform(df['Gender'])\n",
        "df['Married']=LE.fit_transform(df['Married'])\n",
        "df['Dependents']=LE.fit_transform(df['Dependents'])\n",
        "df['Self_Employed']=LE.fit_transform(df['Self_Employed'])\n",
        "df['Property_Area']=LE.fit_transform(df['Property_Area'])\n",
        "df['Loan_Status']=LE.fit_transform(df['Loan_Status'])"
      ],
      "execution_count": 175,
      "outputs": []
    },
    {
      "cell_type": "code",
      "metadata": {
        "colab": {
          "base_uri": "https://localhost:8080/",
          "height": 357
        },
        "id": "bqgZdtBrREVk",
        "outputId": "40444f1e-3dd1-4527-877b-57f33eebbbbf"
      },
      "source": [
        "plt.figure(figsize=(18,15))\n",
        "for i in enumerate(df.columns):\n",
        "    plt.subplot(8,4,i[0]+1)\n",
        "    sns.distplot(df[i[1]],color='b')"
      ],
      "execution_count": 178,
      "outputs": [
        {
          "output_type": "display_data",
          "data": {
            "image/png": "[encoded data removed]",
            "text/plain": [
              "<Figure size 1296x1080 with 12 Axes>"
            ]
          },
          "metadata": {
            "tags": []
          }
        }
      ]
    },
    {
      "cell_type": "code",
      "metadata": {
        "colab": {
          "base_uri": "https://localhost:8080/",
          "height": 236
        },
        "id": "grs8VL1sRQKl",
        "outputId": "a58752ba-7625-4055-d414-36a5bf6d5d8c"
      },
      "source": [
        "plt.figure(figsize=(18,10))\n",
        "for o in enumerate(df):\n",
        "    plt.subplot(9,4,o[0]+1)\n",
        "    sns.boxplot(df[o[1]])"
      ],
      "execution_count": 179,
      "outputs": [
        {
          "output_type": "display_data",
          "data": {
            "image/png": "[encoded data removed]",
            "text/plain": [
              "<Figure size 1296x720 with 12 Axes>"
            ]
          },
          "metadata": {
            "tags": []
          }
        }
      ]
    },
    {
      "cell_type": "markdown",
      "metadata": {
        "id": "w3OVT2X8GGUI"
      },
      "source": [
        "**skewness and outlier removal**"
      ]
    },
    {
      "cell_type": "code",
      "metadata": {
        "colab": {
          "base_uri": "https://localhost:8080/"
        },
        "id": "JlFPulwBE7Ty",
        "outputId": "4167d9ea-55a7-4be1-94f0-f547f63d7397"
      },
      "source": [
        "df.skew()"
      ],
      "execution_count": 16,
      "outputs": [
        {
          "output_type": "execute_result",
          "data": {
            "text/plain": [
              "Gender              -1.648795\n",
              "Married             -0.644850\n",
              "Dependents           1.015551\n",
              "Education            1.367622\n",
              "Self_Employed        2.159796\n",
              "ApplicantIncome      6.539513\n",
              "CoapplicantIncome    7.491531\n",
              "LoanAmount           2.726601\n",
              "Loan_Amount_Term    -2.389680\n",
              "Credit_History      -1.963600\n",
              "Property_Area       -0.066196\n",
              "Loan_Status         -0.809998\n",
              "dtype: float64"
            ]
          },
          "metadata": {
            "tags": []
          },
          "execution_count": 16
        }
      ]
    },
    {
      "cell_type": "code",
      "metadata": {
        "colab": {
          "base_uri": "https://localhost:8080/"
        },
        "id": "BOdfZsyeDmf8",
        "outputId": "cd1e6fdd-b7b5-41df-9ebb-59341112f2fb"
      },
      "source": [
        "from scipy import stats\n",
        "import numpy as np\n",
        "print(\"Old Shape: \", df.shape)   \n",
        "z = np.abs(stats.zscore(df))\n",
        "print(z)"
      ],
      "execution_count": 17,
      "outputs": [
        {
          "output_type": "stream",
          "text": [
            "Old Shape:  (614, 12)\n",
            "[[0.47234264 1.37208932 0.73780632 ... 0.45164045 1.22329839 0.67451931]\n",
            " [0.47234264 0.72881553 0.25346957 ... 0.45164045 1.31851281 1.48253724]\n",
            " [0.47234264 0.72881553 0.73780632 ... 0.45164045 1.22329839 0.67451931]\n",
            " ...\n",
            " [0.47234264 0.72881553 0.25346957 ... 0.45164045 1.22329839 0.67451931]\n",
            " [0.47234264 0.72881553 1.24474546 ... 0.45164045 1.22329839 0.67451931]\n",
            " [2.11710719 1.37208932 0.73780632 ... 2.41044061 0.04760721 1.48253724]]\n"
          ],
          "name": "stdout"
        }
      ]
    },
    {
      "cell_type": "code",
      "metadata": {
        "colab": {
          "base_uri": "https://localhost:8080/"
        },
        "id": "S3beUN-vDpo-",
        "outputId": "01b4a867-5455-4ace-b993-3af5f19c5a3c"
      },
      "source": [
        "threshold = 3\n",
        "print(np.where(z > 3))"
      ],
      "execution_count": 18,
      "outputs": [
        {
          "output_type": "stream",
          "text": [
            "(array([  9,  14,  68,  94, 126, 130, 133, 155, 155, 171, 171, 177, 177,\n",
            "       183, 185, 242, 262, 278, 308, 313, 333, 333, 369, 402, 409, 417,\n",
            "       432, 443, 487, 495, 497, 506, 523, 525, 546, 561, 575, 581, 585,\n",
            "       600, 604]), array([6, 8, 8, 8, 5, 7, 8, 5, 7, 5, 7, 6, 7, 5, 5, 8, 8, 7, 7, 8, 5, 7,\n",
            "       7, 6, 5, 6, 7, 5, 7, 8, 8, 7, 7, 7, 8, 7, 8, 6, 8, 6, 7]))\n"
          ],
          "name": "stdout"
        }
      ]
    },
    {
      "cell_type": "code",
      "metadata": {
        "id": "RDHAH4sLE3pA"
      },
      "source": [
        "after_zscore = df[(z < 3).all(axis=1)]"
      ],
      "execution_count": 19,
      "outputs": []
    },
    {
      "cell_type": "code",
      "metadata": {
        "colab": {
          "base_uri": "https://localhost:8080/"
        },
        "id": "AjG-EWL5FDYK",
        "outputId": "8de3764c-cb84-4836-e33e-c42ab450e709"
      },
      "source": [
        "after_zscore.shape"
      ],
      "execution_count": 20,
      "outputs": [
        {
          "output_type": "execute_result",
          "data": {
            "text/plain": [
              "(577, 12)"
            ]
          },
          "metadata": {
            "tags": []
          },
          "execution_count": 20
        }
      ]
    },
    {
      "cell_type": "code",
      "metadata": {
        "colab": {
          "base_uri": "https://localhost:8080/"
        },
        "id": "YnIcJXnLFEZi",
        "outputId": "4e5f5148-2751-49c4-dc7f-e06a09bf8eb3"
      },
      "source": [
        "df.shape"
      ],
      "execution_count": 21,
      "outputs": [
        {
          "output_type": "execute_result",
          "data": {
            "text/plain": [
              "(614, 12)"
            ]
          },
          "metadata": {
            "tags": []
          },
          "execution_count": 21
        }
      ]
    },
    {
      "cell_type": "code",
      "metadata": {
        "id": "nAnIsfrIFYM4"
      },
      "source": [
        "df=after_zscore"
      ],
      "execution_count": 22,
      "outputs": []
    },
    {
      "cell_type": "code",
      "metadata": {
        "colab": {
          "base_uri": "https://localhost:8080/"
        },
        "id": "tyk7530MFe7j",
        "outputId": "24cd907e-137c-4ef3-a441-45334c2c2c0c"
      },
      "source": [
        "df.skew()"
      ],
      "execution_count": 23,
      "outputs": [
        {
          "output_type": "execute_result",
          "data": {
            "text/plain": [
              "Gender              -1.622920\n",
              "Married             -0.630211\n",
              "Dependents           1.052106\n",
              "Education            1.306588\n",
              "Self_Employed        2.252848\n",
              "ApplicantIncome      2.148522\n",
              "CoapplicantIncome    1.350517\n",
              "LoanAmount           1.113132\n",
              "Loan_Amount_Term    -2.077031\n",
              "Credit_History      -1.921860\n",
              "Property_Area       -0.055332\n",
              "Loan_Status         -0.822635\n",
              "dtype: float64"
            ]
          },
          "metadata": {
            "tags": []
          },
          "execution_count": 23
        }
      ]
    },
    {
      "cell_type": "code",
      "metadata": {
        "colab": {
          "base_uri": "https://localhost:8080/",
          "height": 502
        },
        "id": "UeTZfMlWFhQt",
        "outputId": "fc625bfe-5c98-4387-8f39-e2e48b2d2fed"
      },
      "source": [
        "df1 = np.sqrt(df)\n",
        "\n",
        "df1.head(15)"
      ],
      "execution_count": 24,
      "outputs": [
        {
          "output_type": "execute_result",
          "data": {
            "text/html": [
              "<div>\n",
              "<style scoped>\n",
              "    .dataframe tbody tr th:only-of-type {\n",
              "        vertical-align: middle;\n",
              "    }\n",
              "\n",
              "    .dataframe tbody tr th {\n",
              "        vertical-align: top;\n",
              "    }\n",
              "\n",
              "    .dataframe thead th {\n",
              "        text-align: right;\n",
              "    }\n",
              "</style>\n",
              "<table border=\"1\" class=\"dataframe\">\n",
              "  <thead>\n",
              "    <tr style=\"text-align: right;\">\n",
              "      <th></th>\n",
              "      <th>Gender</th>\n",
              "      <th>Married</th>\n",
              "      <th>Dependents</th>\n",
              "      <th>Education</th>\n",
              "      <th>Self_Employed</th>\n",
              "      <th>ApplicantIncome</th>\n",
              "      <th>CoapplicantIncome</th>\n",
              "      <th>LoanAmount</th>\n",
              "      <th>Loan_Amount_Term</th>\n",
              "      <th>Credit_History</th>\n",
              "      <th>Property_Area</th>\n",
              "      <th>Loan_Status</th>\n",
              "    </tr>\n",
              "  </thead>\n",
              "  <tbody>\n",
              "    <tr>\n",
              "      <th>0</th>\n",
              "      <td>1.0</td>\n",
              "      <td>0.0</td>\n",
              "      <td>0.000000</td>\n",
              "      <td>0.0</td>\n",
              "      <td>0.0</td>\n",
              "      <td>76.478755</td>\n",
              "      <td>0.000000</td>\n",
              "      <td>12.100089</td>\n",
              "      <td>18.973666</td>\n",
              "      <td>1.000000</td>\n",
              "      <td>1.414214</td>\n",
              "      <td>1.0</td>\n",
              "    </tr>\n",
              "    <tr>\n",
              "      <th>1</th>\n",
              "      <td>1.0</td>\n",
              "      <td>1.0</td>\n",
              "      <td>1.000000</td>\n",
              "      <td>0.0</td>\n",
              "      <td>0.0</td>\n",
              "      <td>67.697858</td>\n",
              "      <td>38.832976</td>\n",
              "      <td>11.313708</td>\n",
              "      <td>18.973666</td>\n",
              "      <td>1.000000</td>\n",
              "      <td>0.000000</td>\n",
              "      <td>0.0</td>\n",
              "    </tr>\n",
              "    <tr>\n",
              "      <th>2</th>\n",
              "      <td>1.0</td>\n",
              "      <td>1.0</td>\n",
              "      <td>0.000000</td>\n",
              "      <td>0.0</td>\n",
              "      <td>1.0</td>\n",
              "      <td>54.772256</td>\n",
              "      <td>0.000000</td>\n",
              "      <td>8.124038</td>\n",
              "      <td>18.973666</td>\n",
              "      <td>1.000000</td>\n",
              "      <td>1.414214</td>\n",
              "      <td>1.0</td>\n",
              "    </tr>\n",
              "    <tr>\n",
              "      <th>3</th>\n",
              "      <td>1.0</td>\n",
              "      <td>1.0</td>\n",
              "      <td>0.000000</td>\n",
              "      <td>1.0</td>\n",
              "      <td>0.0</td>\n",
              "      <td>50.823223</td>\n",
              "      <td>48.559242</td>\n",
              "      <td>10.954451</td>\n",
              "      <td>18.973666</td>\n",
              "      <td>1.000000</td>\n",
              "      <td>1.414214</td>\n",
              "      <td>1.0</td>\n",
              "    </tr>\n",
              "    <tr>\n",
              "      <th>4</th>\n",
              "      <td>1.0</td>\n",
              "      <td>0.0</td>\n",
              "      <td>0.000000</td>\n",
              "      <td>0.0</td>\n",
              "      <td>0.0</td>\n",
              "      <td>77.459667</td>\n",
              "      <td>0.000000</td>\n",
              "      <td>11.874342</td>\n",
              "      <td>18.973666</td>\n",
              "      <td>1.000000</td>\n",
              "      <td>1.414214</td>\n",
              "      <td>1.0</td>\n",
              "    </tr>\n",
              "    <tr>\n",
              "      <th>5</th>\n",
              "      <td>1.0</td>\n",
              "      <td>1.0</td>\n",
              "      <td>1.414214</td>\n",
              "      <td>0.0</td>\n",
              "      <td>1.0</td>\n",
              "      <td>73.600272</td>\n",
              "      <td>64.776539</td>\n",
              "      <td>16.340135</td>\n",
              "      <td>18.973666</td>\n",
              "      <td>1.000000</td>\n",
              "      <td>1.414214</td>\n",
              "      <td>1.0</td>\n",
              "    </tr>\n",
              "    <tr>\n",
              "      <th>6</th>\n",
              "      <td>1.0</td>\n",
              "      <td>1.0</td>\n",
              "      <td>0.000000</td>\n",
              "      <td>1.0</td>\n",
              "      <td>0.0</td>\n",
              "      <td>48.301139</td>\n",
              "      <td>38.935845</td>\n",
              "      <td>9.746794</td>\n",
              "      <td>18.973666</td>\n",
              "      <td>1.000000</td>\n",
              "      <td>1.414214</td>\n",
              "      <td>1.0</td>\n",
              "    </tr>\n",
              "    <tr>\n",
              "      <th>7</th>\n",
              "      <td>1.0</td>\n",
              "      <td>1.0</td>\n",
              "      <td>1.732051</td>\n",
              "      <td>0.0</td>\n",
              "      <td>0.0</td>\n",
              "      <td>55.099909</td>\n",
              "      <td>50.039984</td>\n",
              "      <td>12.569805</td>\n",
              "      <td>18.973666</td>\n",
              "      <td>0.000000</td>\n",
              "      <td>1.000000</td>\n",
              "      <td>0.0</td>\n",
              "    </tr>\n",
              "    <tr>\n",
              "      <th>8</th>\n",
              "      <td>1.0</td>\n",
              "      <td>1.0</td>\n",
              "      <td>1.414214</td>\n",
              "      <td>0.0</td>\n",
              "      <td>0.0</td>\n",
              "      <td>63.292970</td>\n",
              "      <td>39.064050</td>\n",
              "      <td>12.961481</td>\n",
              "      <td>18.973666</td>\n",
              "      <td>1.000000</td>\n",
              "      <td>1.414214</td>\n",
              "      <td>1.0</td>\n",
              "    </tr>\n",
              "    <tr>\n",
              "      <th>10</th>\n",
              "      <td>1.0</td>\n",
              "      <td>1.0</td>\n",
              "      <td>1.414214</td>\n",
              "      <td>0.0</td>\n",
              "      <td>0.0</td>\n",
              "      <td>56.568542</td>\n",
              "      <td>26.457513</td>\n",
              "      <td>8.366600</td>\n",
              "      <td>18.973666</td>\n",
              "      <td>1.000000</td>\n",
              "      <td>1.414214</td>\n",
              "      <td>1.0</td>\n",
              "    </tr>\n",
              "    <tr>\n",
              "      <th>11</th>\n",
              "      <td>1.0</td>\n",
              "      <td>1.0</td>\n",
              "      <td>1.414214</td>\n",
              "      <td>0.0</td>\n",
              "      <td>0.0</td>\n",
              "      <td>50.000000</td>\n",
              "      <td>42.895221</td>\n",
              "      <td>10.440307</td>\n",
              "      <td>18.973666</td>\n",
              "      <td>1.000000</td>\n",
              "      <td>1.414214</td>\n",
              "      <td>1.0</td>\n",
              "    </tr>\n",
              "    <tr>\n",
              "      <th>12</th>\n",
              "      <td>1.0</td>\n",
              "      <td>1.0</td>\n",
              "      <td>1.414214</td>\n",
              "      <td>0.0</td>\n",
              "      <td>0.0</td>\n",
              "      <td>55.434646</td>\n",
              "      <td>90.033327</td>\n",
              "      <td>14.142136</td>\n",
              "      <td>18.973666</td>\n",
              "      <td>1.000000</td>\n",
              "      <td>1.414214</td>\n",
              "      <td>1.0</td>\n",
              "    </tr>\n",
              "    <tr>\n",
              "      <th>13</th>\n",
              "      <td>1.0</td>\n",
              "      <td>0.0</td>\n",
              "      <td>0.000000</td>\n",
              "      <td>0.0</td>\n",
              "      <td>0.0</td>\n",
              "      <td>43.046487</td>\n",
              "      <td>53.291650</td>\n",
              "      <td>10.677078</td>\n",
              "      <td>18.973666</td>\n",
              "      <td>1.000000</td>\n",
              "      <td>0.000000</td>\n",
              "      <td>0.0</td>\n",
              "    </tr>\n",
              "    <tr>\n",
              "      <th>15</th>\n",
              "      <td>1.0</td>\n",
              "      <td>0.0</td>\n",
              "      <td>0.000000</td>\n",
              "      <td>0.0</td>\n",
              "      <td>0.0</td>\n",
              "      <td>70.356236</td>\n",
              "      <td>0.000000</td>\n",
              "      <td>11.180340</td>\n",
              "      <td>18.973666</td>\n",
              "      <td>1.000000</td>\n",
              "      <td>1.414214</td>\n",
              "      <td>1.0</td>\n",
              "    </tr>\n",
              "    <tr>\n",
              "      <th>16</th>\n",
              "      <td>1.0</td>\n",
              "      <td>0.0</td>\n",
              "      <td>1.000000</td>\n",
              "      <td>1.0</td>\n",
              "      <td>0.0</td>\n",
              "      <td>59.966657</td>\n",
              "      <td>0.000000</td>\n",
              "      <td>10.000000</td>\n",
              "      <td>15.491933</td>\n",
              "      <td>0.917714</td>\n",
              "      <td>1.414214</td>\n",
              "      <td>1.0</td>\n",
              "    </tr>\n",
              "  </tbody>\n",
              "</table>\n",
              "</div>"
            ],
            "text/plain": [
              "    Gender  Married  Dependents  ...  Credit_History  Property_Area  Loan_Status\n",
              "0      1.0      0.0    0.000000  ...        1.000000       1.414214          1.0\n",
              "1      1.0      1.0    1.000000  ...        1.000000       0.000000          0.0\n",
              "2      1.0      1.0    0.000000  ...        1.000000       1.414214          1.0\n",
              "3      1.0      1.0    0.000000  ...        1.000000       1.414214          1.0\n",
              "4      1.0      0.0    0.000000  ...        1.000000       1.414214          1.0\n",
              "5      1.0      1.0    1.414214  ...        1.000000       1.414214          1.0\n",
              "6      1.0      1.0    0.000000  ...        1.000000       1.414214          1.0\n",
              "7      1.0      1.0    1.732051  ...        0.000000       1.000000          0.0\n",
              "8      1.0      1.0    1.414214  ...        1.000000       1.414214          1.0\n",
              "10     1.0      1.0    1.414214  ...        1.000000       1.414214          1.0\n",
              "11     1.0      1.0    1.414214  ...        1.000000       1.414214          1.0\n",
              "12     1.0      1.0    1.414214  ...        1.000000       1.414214          1.0\n",
              "13     1.0      0.0    0.000000  ...        1.000000       0.000000          0.0\n",
              "15     1.0      0.0    0.000000  ...        1.000000       1.414214          1.0\n",
              "16     1.0      0.0    1.000000  ...        0.917714       1.414214          1.0\n",
              "\n",
              "[15 rows x 12 columns]"
            ]
          },
          "metadata": {
            "tags": []
          },
          "execution_count": 24
        }
      ]
    },
    {
      "cell_type": "code",
      "metadata": {
        "colab": {
          "base_uri": "https://localhost:8080/"
        },
        "id": "3-Bl070NFo7O",
        "outputId": "96085cb6-c12d-40a8-d716-43b311262506"
      },
      "source": [
        "df1.skew()"
      ],
      "execution_count": 25,
      "outputs": [
        {
          "output_type": "execute_result",
          "data": {
            "text/plain": [
              "Gender              -1.622920\n",
              "Married             -0.630211\n",
              "Dependents           0.610338\n",
              "Education            1.306588\n",
              "Self_Employed        2.252848\n",
              "ApplicantIncome      1.208613\n",
              "CoapplicantIncome    0.207591\n",
              "LoanAmount           0.320372\n",
              "Loan_Amount_Term    -2.456414\n",
              "Credit_History      -1.960638\n",
              "Property_Area       -0.598165\n",
              "Loan_Status         -0.822635\n",
              "dtype: float64"
            ]
          },
          "metadata": {
            "tags": []
          },
          "execution_count": 25
        }
      ]
    },
    {
      "cell_type": "code",
      "metadata": {
        "id": "VCONv4iGFqTQ"
      },
      "source": [
        "df=df1"
      ],
      "execution_count": 26,
      "outputs": []
    },
    {
      "cell_type": "markdown",
      "metadata": {
        "id": "ynpUX17OGYP4"
      },
      "source": [
        "## **5.Feature Engineering**"
      ]
    },
    {
      "cell_type": "code",
      "metadata": {
        "id": "NzMlg-c7Fycp"
      },
      "source": [
        "y = df['Loan_Status']\n",
        "x = df.drop('Loan_Status', axis = 1)"
      ],
      "execution_count": 27,
      "outputs": []
    },
    {
      "cell_type": "code",
      "metadata": {
        "id": "ARtUp-uYGAl5"
      },
      "source": [
        "from sklearn.model_selection import train_test_split\n",
        "from sklearn.linear_model import LogisticRegression\n",
        "from sklearn.metrics import classification_report"
      ],
      "execution_count": 28,
      "outputs": []
    },
    {
      "cell_type": "code",
      "metadata": {
        "id": "KypuI4fRF6Xp"
      },
      "source": [
        "x_train, x_test, y_train, y_test = train_test_split(x,y,test_size=0.2,random_state=47)"
      ],
      "execution_count": 77,
      "outputs": []
    },
    {
      "cell_type": "markdown",
      "metadata": {
        "id": "tCD4OHw0GalW"
      },
      "source": [
        "### **Treating data imbalence**"
      ]
    },
    {
      "cell_type": "code",
      "metadata": {
        "colab": {
          "base_uri": "https://localhost:8080/"
        },
        "id": "l6y4JX_xHKJB",
        "outputId": "967aa8cd-b3fd-4eb9-ab35-5c4b71efdc87"
      },
      "source": [
        "print(df['Loan_Status'].value_counts())"
      ],
      "execution_count": 78,
      "outputs": [
        {
          "output_type": "stream",
          "text": [
            "1.0    398\n",
            "0.0    179\n",
            "Name: Loan_Status, dtype: int64\n"
          ],
          "name": "stdout"
        }
      ]
    },
    {
      "cell_type": "code",
      "metadata": {
        "colab": {
          "base_uri": "https://localhost:8080/"
        },
        "id": "13D15jd9Hdqy",
        "outputId": "e55d1547-2cab-4d46-b95e-6072036e4c52"
      },
      "source": [
        "from sklearn.utils import resample\n",
        "X=pd.concat([x_train,y_train],axis=1)\n",
        "label0=X[X.Loan_Status==0]\n",
        "label1=X[X.Loan_Status==1]\n",
        "label_unsampled=resample(label0,replace=True,n_samples=len(label1),random_state=27)\n",
        "unsampled=pd.concat([label1,label_unsampled])\n",
        "unsampled.Loan_Status.value_counts()"
      ],
      "execution_count": 79,
      "outputs": [
        {
          "output_type": "execute_result",
          "data": {
            "text/plain": [
              "0.0    325\n",
              "1.0    325\n",
              "Name: Loan_Status, dtype: int64"
            ]
          },
          "metadata": {
            "tags": []
          },
          "execution_count": 79
        }
      ]
    },
    {
      "cell_type": "code",
      "metadata": {
        "id": "757YxV6IHvrP"
      },
      "source": [
        "x_train= unsampled.drop(columns='Loan_Status')\n",
        "y_train= unsampled['Loan_Status']"
      ],
      "execution_count": 80,
      "outputs": []
    },
    {
      "cell_type": "markdown",
      "metadata": {
        "id": "RC8wlAYUUKui"
      },
      "source": [
        "## **scaling**"
      ]
    },
    {
      "cell_type": "code",
      "metadata": {
        "id": "EE9J_Nj3F8ri"
      },
      "source": [
        "# data normalization with sklearn\n",
        "from sklearn.preprocessing import MinMaxScaler\n",
        "\n",
        "# fit scaler on training data\n",
        "norm = MinMaxScaler().fit(x_train)\n",
        "\n",
        "# transform training data\n",
        "x_train_norm = norm.transform(x_train)\n",
        "\n",
        "# transform testing dataabs\n",
        "x_test_norm = norm.transform(x_test)"
      ],
      "execution_count": 81,
      "outputs": []
    },
    {
      "cell_type": "code",
      "metadata": {
        "id": "G5pk2aPMGFuZ"
      },
      "source": [
        "x_test=pd.DataFrame(x_test_norm)\n",
        "x_train=pd.DataFrame(x_train_norm)"
      ],
      "execution_count": 82,
      "outputs": []
    },
    {
      "cell_type": "code",
      "metadata": {
        "colab": {
          "base_uri": "https://localhost:8080/",
          "height": 290
        },
        "id": "HYF4w5KCGHmG",
        "outputId": "c1cf0b60-7b90-4ca2-c6fb-240225d590b6"
      },
      "source": [
        "x_train.describe()"
      ],
      "execution_count": 83,
      "outputs": [
        {
          "output_type": "execute_result",
          "data": {
            "text/html": [
              "<div>\n",
              "<style scoped>\n",
              "    .dataframe tbody tr th:only-of-type {\n",
              "        vertical-align: middle;\n",
              "    }\n",
              "\n",
              "    .dataframe tbody tr th {\n",
              "        vertical-align: top;\n",
              "    }\n",
              "\n",
              "    .dataframe thead th {\n",
              "        text-align: right;\n",
              "    }\n",
              "</style>\n",
              "<table border=\"1\" class=\"dataframe\">\n",
              "  <thead>\n",
              "    <tr style=\"text-align: right;\">\n",
              "      <th></th>\n",
              "      <th>0</th>\n",
              "      <th>1</th>\n",
              "      <th>2</th>\n",
              "      <th>3</th>\n",
              "      <th>4</th>\n",
              "      <th>5</th>\n",
              "      <th>6</th>\n",
              "      <th>7</th>\n",
              "      <th>8</th>\n",
              "      <th>9</th>\n",
              "      <th>10</th>\n",
              "    </tr>\n",
              "  </thead>\n",
              "  <tbody>\n",
              "    <tr>\n",
              "      <th>count</th>\n",
              "      <td>650.000000</td>\n",
              "      <td>650.000000</td>\n",
              "      <td>650.000000</td>\n",
              "      <td>650.000000</td>\n",
              "      <td>650.000000</td>\n",
              "      <td>650.000000</td>\n",
              "      <td>650.000000</td>\n",
              "      <td>650.000000</td>\n",
              "      <td>650.000000</td>\n",
              "      <td>650.000000</td>\n",
              "      <td>650.000000</td>\n",
              "    </tr>\n",
              "    <tr>\n",
              "      <th>mean</th>\n",
              "      <td>0.823077</td>\n",
              "      <td>0.667692</td>\n",
              "      <td>0.302322</td>\n",
              "      <td>0.243077</td>\n",
              "      <td>0.156923</td>\n",
              "      <td>0.435810</td>\n",
              "      <td>0.299996</td>\n",
              "      <td>0.520306</td>\n",
              "      <td>0.586315</td>\n",
              "      <td>0.737906</td>\n",
              "      <td>0.574900</td>\n",
              "    </tr>\n",
              "    <tr>\n",
              "      <th>std</th>\n",
              "      <td>0.381897</td>\n",
              "      <td>0.471403</td>\n",
              "      <td>0.377713</td>\n",
              "      <td>0.429272</td>\n",
              "      <td>0.364008</td>\n",
              "      <td>0.153077</td>\n",
              "      <td>0.281188</td>\n",
              "      <td>0.144931</td>\n",
              "      <td>0.208417</td>\n",
              "      <td>0.433050</td>\n",
              "      <td>0.416658</td>\n",
              "    </tr>\n",
              "    <tr>\n",
              "      <th>min</th>\n",
              "      <td>0.000000</td>\n",
              "      <td>0.000000</td>\n",
              "      <td>0.000000</td>\n",
              "      <td>0.000000</td>\n",
              "      <td>0.000000</td>\n",
              "      <td>0.000000</td>\n",
              "      <td>0.000000</td>\n",
              "      <td>0.000000</td>\n",
              "      <td>0.000000</td>\n",
              "      <td>0.000000</td>\n",
              "      <td>0.000000</td>\n",
              "    </tr>\n",
              "    <tr>\n",
              "      <th>25%</th>\n",
              "      <td>1.000000</td>\n",
              "      <td>0.000000</td>\n",
              "      <td>0.000000</td>\n",
              "      <td>0.000000</td>\n",
              "      <td>0.000000</td>\n",
              "      <td>0.330779</td>\n",
              "      <td>0.000000</td>\n",
              "      <td>0.439380</td>\n",
              "      <td>0.654373</td>\n",
              "      <td>0.000000</td>\n",
              "      <td>0.000000</td>\n",
              "    </tr>\n",
              "    <tr>\n",
              "      <th>50%</th>\n",
              "      <td>1.000000</td>\n",
              "      <td>1.000000</td>\n",
              "      <td>0.000000</td>\n",
              "      <td>0.000000</td>\n",
              "      <td>0.000000</td>\n",
              "      <td>0.399818</td>\n",
              "      <td>0.388146</td>\n",
              "      <td>0.513371</td>\n",
              "      <td>0.654373</td>\n",
              "      <td>1.000000</td>\n",
              "      <td>0.707107</td>\n",
              "    </tr>\n",
              "    <tr>\n",
              "      <th>75%</th>\n",
              "      <td>1.000000</td>\n",
              "      <td>1.000000</td>\n",
              "      <td>0.577350</td>\n",
              "      <td>0.000000</td>\n",
              "      <td>0.000000</td>\n",
              "      <td>0.516261</td>\n",
              "      <td>0.518397</td>\n",
              "      <td>0.595135</td>\n",
              "      <td>0.654373</td>\n",
              "      <td>1.000000</td>\n",
              "      <td>1.000000</td>\n",
              "    </tr>\n",
              "    <tr>\n",
              "      <th>max</th>\n",
              "      <td>1.000000</td>\n",
              "      <td>1.000000</td>\n",
              "      <td>1.000000</td>\n",
              "      <td>1.000000</td>\n",
              "      <td>1.000000</td>\n",
              "      <td>1.000000</td>\n",
              "      <td>1.000000</td>\n",
              "      <td>1.000000</td>\n",
              "      <td>1.000000</td>\n",
              "      <td>1.000000</td>\n",
              "      <td>1.000000</td>\n",
              "    </tr>\n",
              "  </tbody>\n",
              "</table>\n",
              "</div>"
            ],
            "text/plain": [
              "               0           1           2   ...          8           9           10\n",
              "count  650.000000  650.000000  650.000000  ...  650.000000  650.000000  650.000000\n",
              "mean     0.823077    0.667692    0.302322  ...    0.586315    0.737906    0.574900\n",
              "std      0.381897    0.471403    0.377713  ...    0.208417    0.433050    0.416658\n",
              "min      0.000000    0.000000    0.000000  ...    0.000000    0.000000    0.000000\n",
              "25%      1.000000    0.000000    0.000000  ...    0.654373    0.000000    0.000000\n",
              "50%      1.000000    1.000000    0.000000  ...    0.654373    1.000000    0.707107\n",
              "75%      1.000000    1.000000    0.577350  ...    0.654373    1.000000    1.000000\n",
              "max      1.000000    1.000000    1.000000  ...    1.000000    1.000000    1.000000\n",
              "\n",
              "[8 rows x 11 columns]"
            ]
          },
          "metadata": {
            "tags": []
          },
          "execution_count": 83
        }
      ]
    },
    {
      "cell_type": "markdown",
      "metadata": {
        "id": "A2RMh4kHLpNB"
      },
      "source": [
        "## **6.Model construction**"
      ]
    },
    {
      "cell_type": "code",
      "metadata": {
        "id": "qO6fyAbHGKFZ"
      },
      "source": [
        "from sklearn.model_selection import train_test_split\n",
        "from sklearn.metrics import classification_report, confusion_matrix\n",
        "from sklearn.ensemble import RandomForestClassifier\n",
        "from sklearn.metrics import accuracy_score,confusion_matrix,classification_report"
      ],
      "execution_count": 84,
      "outputs": []
    },
    {
      "cell_type": "markdown",
      "metadata": {
        "id": "Q3gK3ZgRLv-W"
      },
      "source": [
        "**RandomForestClassifier**"
      ]
    },
    {
      "cell_type": "code",
      "metadata": {
        "colab": {
          "base_uri": "https://localhost:8080/"
        },
        "id": "VPyDMOLbGMNQ",
        "outputId": "543c67dd-fce6-4b47-a29f-6702742f2064"
      },
      "source": [
        "clf= RandomForestClassifier().fit(x_train, y_train)\n",
        "predRFC= clf.predict(x_test)\n",
        "randomforest_accu=accuracy_score(y_test,predRFC)\n",
        "randomforest_accu\n",
        "#print(confusion_matrix(y_test, predRFC))\n",
        "print(classification_report(y_test, predRFC))"
      ],
      "execution_count": 110,
      "outputs": [
        {
          "output_type": "stream",
          "text": [
            "              precision    recall  f1-score   support\n",
            "\n",
            "         0.0       0.79      0.53      0.64        43\n",
            "         1.0       0.77      0.92      0.84        73\n",
            "\n",
            "    accuracy                           0.78       116\n",
            "   macro avg       0.78      0.73      0.74       116\n",
            "weighted avg       0.78      0.78      0.76       116\n",
            "\n"
          ],
          "name": "stdout"
        }
      ]
    },
    {
      "cell_type": "code",
      "metadata": {
        "colab": {
          "base_uri": "https://localhost:8080/"
        },
        "id": "9Ys_Jyu4GOBZ",
        "outputId": "295d1202-109b-463f-c3ab-4461a142a452"
      },
      "source": [
        "randomforest_accu"
      ],
      "execution_count": 111,
      "outputs": [
        {
          "output_type": "execute_result",
          "data": {
            "text/plain": [
              "0.7758620689655172"
            ]
          },
          "metadata": {
            "tags": []
          },
          "execution_count": 111
        }
      ]
    },
    {
      "cell_type": "code",
      "metadata": {
        "colab": {
          "base_uri": "https://localhost:8080/"
        },
        "id": "lxtKgiqjGQOz",
        "outputId": "2be1fd25-3568-4a49-c6d0-62e1551e30cb"
      },
      "source": [
        "from sklearn.model_selection import cross_val_score\n",
        "randomforest_cv= cross_val_score(clf,x_train,y_train,scoring='accuracy', cv = 5).mean()\n",
        "randomforest_cv"
      ],
      "execution_count": 116,
      "outputs": [
        {
          "output_type": "execute_result",
          "data": {
            "text/plain": [
              "0.9107692307692308"
            ]
          },
          "metadata": {
            "tags": []
          },
          "execution_count": 116
        }
      ]
    },
    {
      "cell_type": "markdown",
      "metadata": {
        "id": "8_6hiRTELy1o"
      },
      "source": [
        "**SVC**"
      ]
    },
    {
      "cell_type": "code",
      "metadata": {
        "colab": {
          "base_uri": "https://localhost:8080/"
        },
        "id": "lA9NY9STH06Q",
        "outputId": "ec435fbd-9d4d-4f69-ffb2-83f4856f50c0"
      },
      "source": [
        "from sklearn.svm import SVC\n",
        "from sklearn.model_selection import cross_val_score\n",
        "from sklearn import svm\n",
        "from sklearn.svm import LinearSVC\n",
        "svc=SVC()\n",
        "svc.fit(x_train,y_train)\n",
        "svc.score(x_train,y_train)\n",
        "predsvc=svc.predict(x_test)\n",
        "svc_acc=accuracy_score(y_test,predsvc)\n",
        "print(svc_acc)\n",
        "print(confusion_matrix(y_test,predsvc))\n",
        "print(classification_report(y_test,predsvc))"
      ],
      "execution_count": 88,
      "outputs": [
        {
          "output_type": "stream",
          "text": [
            "0.7758620689655172\n",
            "[[20 23]\n",
            " [ 3 70]]\n",
            "              precision    recall  f1-score   support\n",
            "\n",
            "         0.0       0.87      0.47      0.61        43\n",
            "         1.0       0.75      0.96      0.84        73\n",
            "\n",
            "    accuracy                           0.78       116\n",
            "   macro avg       0.81      0.71      0.72       116\n",
            "weighted avg       0.80      0.78      0.76       116\n",
            "\n"
          ],
          "name": "stdout"
        }
      ]
    },
    {
      "cell_type": "code",
      "metadata": {
        "colab": {
          "base_uri": "https://localhost:8080/"
        },
        "id": "6-0t-5ZhH5Tx",
        "outputId": "7bd8211b-56a6-4ec0-e08a-f74d55bdf981"
      },
      "source": [
        "svc_cv=cross_val_score(svc,x,y,scoring='accuracy', cv = 10).mean()\n",
        "svc_cv"
      ],
      "execution_count": 89,
      "outputs": [
        {
          "output_type": "execute_result",
          "data": {
            "text/plain": [
              "0.6897761645493043"
            ]
          },
          "metadata": {
            "tags": []
          },
          "execution_count": 89
        }
      ]
    },
    {
      "cell_type": "markdown",
      "metadata": {
        "id": "7qsVj5XdL1Ze"
      },
      "source": [
        "**DecisionTreeClassifier**"
      ]
    },
    {
      "cell_type": "code",
      "metadata": {
        "colab": {
          "base_uri": "https://localhost:8080/",
          "height": 216
        },
        "id": "zCdIapC5H7yd",
        "outputId": "24b0dab1-b1e5-42b4-fe14-e8c6fcfc5356"
      },
      "source": [
        "from sklearn.tree import DecisionTreeClassifier\n",
        "DTC = DecisionTreeClassifier()\n",
        "\n",
        "DTC.fit(x_train,y_train)\n",
        "\n",
        "predDTC = DTC.predict(x_test)\n",
        "\n",
        "reportDTC = classification_report(y_test,predDTC, output_dict = True)\n",
        "\n",
        "crDTC = pd.DataFrame(reportDTC).transpose()\n",
        "dtc_acc=accuracy_score(y_test,predDTC)\n",
        "print(dtc_acc)\n",
        "crDTC"
      ],
      "execution_count": 90,
      "outputs": [
        {
          "output_type": "stream",
          "text": [
            "0.7586206896551724\n"
          ],
          "name": "stdout"
        },
        {
          "output_type": "execute_result",
          "data": {
            "text/html": [
              "<div>\n",
              "<style scoped>\n",
              "    .dataframe tbody tr th:only-of-type {\n",
              "        vertical-align: middle;\n",
              "    }\n",
              "\n",
              "    .dataframe tbody tr th {\n",
              "        vertical-align: top;\n",
              "    }\n",
              "\n",
              "    .dataframe thead th {\n",
              "        text-align: right;\n",
              "    }\n",
              "</style>\n",
              "<table border=\"1\" class=\"dataframe\">\n",
              "  <thead>\n",
              "    <tr style=\"text-align: right;\">\n",
              "      <th></th>\n",
              "      <th>precision</th>\n",
              "      <th>recall</th>\n",
              "      <th>f1-score</th>\n",
              "      <th>support</th>\n",
              "    </tr>\n",
              "  </thead>\n",
              "  <tbody>\n",
              "    <tr>\n",
              "      <th>0.0</th>\n",
              "      <td>0.692308</td>\n",
              "      <td>0.627907</td>\n",
              "      <td>0.658537</td>\n",
              "      <td>43.000000</td>\n",
              "    </tr>\n",
              "    <tr>\n",
              "      <th>1.0</th>\n",
              "      <td>0.792208</td>\n",
              "      <td>0.835616</td>\n",
              "      <td>0.813333</td>\n",
              "      <td>73.000000</td>\n",
              "    </tr>\n",
              "    <tr>\n",
              "      <th>accuracy</th>\n",
              "      <td>0.758621</td>\n",
              "      <td>0.758621</td>\n",
              "      <td>0.758621</td>\n",
              "      <td>0.758621</td>\n",
              "    </tr>\n",
              "    <tr>\n",
              "      <th>macro avg</th>\n",
              "      <td>0.742258</td>\n",
              "      <td>0.731762</td>\n",
              "      <td>0.735935</td>\n",
              "      <td>116.000000</td>\n",
              "    </tr>\n",
              "    <tr>\n",
              "      <th>weighted avg</th>\n",
              "      <td>0.755176</td>\n",
              "      <td>0.758621</td>\n",
              "      <td>0.755952</td>\n",
              "      <td>116.000000</td>\n",
              "    </tr>\n",
              "  </tbody>\n",
              "</table>\n",
              "</div>"
            ],
            "text/plain": [
              "              precision    recall  f1-score     support\n",
              "0.0            0.692308  0.627907  0.658537   43.000000\n",
              "1.0            0.792208  0.835616  0.813333   73.000000\n",
              "accuracy       0.758621  0.758621  0.758621    0.758621\n",
              "macro avg      0.742258  0.731762  0.735935  116.000000\n",
              "weighted avg   0.755176  0.758621  0.755952  116.000000"
            ]
          },
          "metadata": {
            "tags": []
          },
          "execution_count": 90
        }
      ]
    },
    {
      "cell_type": "code",
      "metadata": {
        "colab": {
          "base_uri": "https://localhost:8080/"
        },
        "id": "4az-sKxXH9yC",
        "outputId": "5b92296a-1569-47e9-9e92-1a88b7b94eca"
      },
      "source": [
        "from sklearn.model_selection import cross_val_score\n",
        "dtc_cv=cross_val_score(DTC,x,y,scoring='accuracy', cv =13).mean()\n",
        "dtc_cv"
      ],
      "execution_count": 104,
      "outputs": [
        {
          "output_type": "execute_result",
          "data": {
            "text/plain": [
              "0.7331390831390832"
            ]
          },
          "metadata": {
            "tags": []
          },
          "execution_count": 104
        }
      ]
    },
    {
      "cell_type": "markdown",
      "metadata": {
        "id": "aY59ChcVL4Bc"
      },
      "source": [
        "**GaussianNB**"
      ]
    },
    {
      "cell_type": "code",
      "metadata": {
        "colab": {
          "base_uri": "https://localhost:8080/",
          "height": 216
        },
        "id": "0gXOkLKuH_wH",
        "outputId": "b7113f37-5cf0-4975-dd20-cba7083391e7"
      },
      "source": [
        "from sklearn.naive_bayes import GaussianNB\n",
        "GNB = GaussianNB()\n",
        "\n",
        "GNB.fit(x_train,y_train)\n",
        "\n",
        "predGNB = GNB.predict(x_test)\n",
        "\n",
        "reportGNB = classification_report(y_test, predGNB, output_dict = True)\n",
        "  \n",
        "crGNB = pd.DataFrame(reportGNB).transpose()\n",
        "gnb_acc=accuracy_score(y_test,predGNB)\n",
        "print(gnb_acc)\n",
        "crGNB"
      ],
      "execution_count": 105,
      "outputs": [
        {
          "output_type": "stream",
          "text": [
            "0.7931034482758621\n"
          ],
          "name": "stdout"
        },
        {
          "output_type": "execute_result",
          "data": {
            "text/html": [
              "<div>\n",
              "<style scoped>\n",
              "    .dataframe tbody tr th:only-of-type {\n",
              "        vertical-align: middle;\n",
              "    }\n",
              "\n",
              "    .dataframe tbody tr th {\n",
              "        vertical-align: top;\n",
              "    }\n",
              "\n",
              "    .dataframe thead th {\n",
              "        text-align: right;\n",
              "    }\n",
              "</style>\n",
              "<table border=\"1\" class=\"dataframe\">\n",
              "  <thead>\n",
              "    <tr style=\"text-align: right;\">\n",
              "      <th></th>\n",
              "      <th>precision</th>\n",
              "      <th>recall</th>\n",
              "      <th>f1-score</th>\n",
              "      <th>support</th>\n",
              "    </tr>\n",
              "  </thead>\n",
              "  <tbody>\n",
              "    <tr>\n",
              "      <th>0.0</th>\n",
              "      <td>0.913043</td>\n",
              "      <td>0.488372</td>\n",
              "      <td>0.636364</td>\n",
              "      <td>43.000000</td>\n",
              "    </tr>\n",
              "    <tr>\n",
              "      <th>1.0</th>\n",
              "      <td>0.763441</td>\n",
              "      <td>0.972603</td>\n",
              "      <td>0.855422</td>\n",
              "      <td>73.000000</td>\n",
              "    </tr>\n",
              "    <tr>\n",
              "      <th>accuracy</th>\n",
              "      <td>0.793103</td>\n",
              "      <td>0.793103</td>\n",
              "      <td>0.793103</td>\n",
              "      <td>0.793103</td>\n",
              "    </tr>\n",
              "    <tr>\n",
              "      <th>macro avg</th>\n",
              "      <td>0.838242</td>\n",
              "      <td>0.730487</td>\n",
              "      <td>0.745893</td>\n",
              "      <td>116.000000</td>\n",
              "    </tr>\n",
              "    <tr>\n",
              "      <th>weighted avg</th>\n",
              "      <td>0.818897</td>\n",
              "      <td>0.793103</td>\n",
              "      <td>0.774219</td>\n",
              "      <td>116.000000</td>\n",
              "    </tr>\n",
              "  </tbody>\n",
              "</table>\n",
              "</div>"
            ],
            "text/plain": [
              "              precision    recall  f1-score     support\n",
              "0.0            0.913043  0.488372  0.636364   43.000000\n",
              "1.0            0.763441  0.972603  0.855422   73.000000\n",
              "accuracy       0.793103  0.793103  0.793103    0.793103\n",
              "macro avg      0.838242  0.730487  0.745893  116.000000\n",
              "weighted avg   0.818897  0.793103  0.774219  116.000000"
            ]
          },
          "metadata": {
            "tags": []
          },
          "execution_count": 105
        }
      ]
    },
    {
      "cell_type": "code",
      "metadata": {
        "colab": {
          "base_uri": "https://localhost:8080/"
        },
        "id": "5duMVRPnIBlK",
        "outputId": "50cf8c6f-d662-4c19-a7d4-d40de0ffdae7"
      },
      "source": [
        "gnb_cv=cross_val_score(GNB,x,y,scoring='accuracy', cv = 10).mean()\n",
        "gnb_cv"
      ],
      "execution_count": 106,
      "outputs": [
        {
          "output_type": "execute_result",
          "data": {
            "text/plain": [
              "0.814670296430732"
            ]
          },
          "metadata": {
            "tags": []
          },
          "execution_count": 106
        }
      ]
    },
    {
      "cell_type": "markdown",
      "metadata": {
        "id": "Xb71t9egL6RW"
      },
      "source": [
        "**KNeighborsClassifier**"
      ]
    },
    {
      "cell_type": "code",
      "metadata": {
        "colab": {
          "base_uri": "https://localhost:8080/",
          "height": 216
        },
        "id": "7YRyMrhTIDSw",
        "outputId": "78cb081d-3e95-48ed-f6ec-fd314889fda1"
      },
      "source": [
        "from sklearn.neighbors import KNeighborsClassifier\n",
        "KNN = KNeighborsClassifier()\n",
        "\n",
        "KNN.fit(x_train,y_train)\n",
        "\n",
        "predKNN = KNN.predict(x_test)\n",
        "\n",
        "reportKNN = classification_report(y_test,predKNN, output_dict = True)\n",
        "\n",
        "crKNN = pd.DataFrame(reportKNN).transpose()\n",
        "knn_acc=accuracy_score(y_test,predKNN)\n",
        "print(knn_acc)\n",
        "crKNN"
      ],
      "execution_count": 94,
      "outputs": [
        {
          "output_type": "stream",
          "text": [
            "0.7413793103448276\n"
          ],
          "name": "stdout"
        },
        {
          "output_type": "execute_result",
          "data": {
            "text/html": [
              "<div>\n",
              "<style scoped>\n",
              "    .dataframe tbody tr th:only-of-type {\n",
              "        vertical-align: middle;\n",
              "    }\n",
              "\n",
              "    .dataframe tbody tr th {\n",
              "        vertical-align: top;\n",
              "    }\n",
              "\n",
              "    .dataframe thead th {\n",
              "        text-align: right;\n",
              "    }\n",
              "</style>\n",
              "<table border=\"1\" class=\"dataframe\">\n",
              "  <thead>\n",
              "    <tr style=\"text-align: right;\">\n",
              "      <th></th>\n",
              "      <th>precision</th>\n",
              "      <th>recall</th>\n",
              "      <th>f1-score</th>\n",
              "      <th>support</th>\n",
              "    </tr>\n",
              "  </thead>\n",
              "  <tbody>\n",
              "    <tr>\n",
              "      <th>0.0</th>\n",
              "      <td>0.651163</td>\n",
              "      <td>0.651163</td>\n",
              "      <td>0.651163</td>\n",
              "      <td>43.000000</td>\n",
              "    </tr>\n",
              "    <tr>\n",
              "      <th>1.0</th>\n",
              "      <td>0.794521</td>\n",
              "      <td>0.794521</td>\n",
              "      <td>0.794521</td>\n",
              "      <td>73.000000</td>\n",
              "    </tr>\n",
              "    <tr>\n",
              "      <th>accuracy</th>\n",
              "      <td>0.741379</td>\n",
              "      <td>0.741379</td>\n",
              "      <td>0.741379</td>\n",
              "      <td>0.741379</td>\n",
              "    </tr>\n",
              "    <tr>\n",
              "      <th>macro avg</th>\n",
              "      <td>0.722842</td>\n",
              "      <td>0.722842</td>\n",
              "      <td>0.722842</td>\n",
              "      <td>116.000000</td>\n",
              "    </tr>\n",
              "    <tr>\n",
              "      <th>weighted avg</th>\n",
              "      <td>0.741379</td>\n",
              "      <td>0.741379</td>\n",
              "      <td>0.741379</td>\n",
              "      <td>116.000000</td>\n",
              "    </tr>\n",
              "  </tbody>\n",
              "</table>\n",
              "</div>"
            ],
            "text/plain": [
              "              precision    recall  f1-score     support\n",
              "0.0            0.651163  0.651163  0.651163   43.000000\n",
              "1.0            0.794521  0.794521  0.794521   73.000000\n",
              "accuracy       0.741379  0.741379  0.741379    0.741379\n",
              "macro avg      0.722842  0.722842  0.722842  116.000000\n",
              "weighted avg   0.741379  0.741379  0.741379  116.000000"
            ]
          },
          "metadata": {
            "tags": []
          },
          "execution_count": 94
        }
      ]
    },
    {
      "cell_type": "code",
      "metadata": {
        "colab": {
          "base_uri": "https://localhost:8080/"
        },
        "id": "-y8EYzgeIFQ4",
        "outputId": "a0d80740-0caa-49ae-b1bb-05421a874381"
      },
      "source": [
        "knn_cv=cross_val_score(KNN,x,y,scoring='accuracy', cv = 10).mean()\n",
        "knn_cv"
      ],
      "execution_count": 95,
      "outputs": [
        {
          "output_type": "execute_result",
          "data": {
            "text/plain": [
              "0.6516938898971567"
            ]
          },
          "metadata": {
            "tags": []
          },
          "execution_count": 95
        }
      ]
    },
    {
      "cell_type": "markdown",
      "metadata": {
        "id": "oWR24IVNL8H2"
      },
      "source": [
        "**LogisticRegression**"
      ]
    },
    {
      "cell_type": "code",
      "metadata": {
        "colab": {
          "base_uri": "https://localhost:8080/",
          "height": 248
        },
        "id": "Vq4wwSJFIbLJ",
        "outputId": "205c6802-33c4-4828-8bb7-e579a0a1ed17"
      },
      "source": [
        "from sklearn.linear_model import LogisticRegression\n",
        "\n",
        "LReg = LogisticRegression(solver='lbfgs', max_iter=400,random_state=42)\n",
        "\n",
        "LReg.fit(x_train,y_train)\n",
        "\n",
        "predLReg = LReg.predict(x_test)\n",
        "\n",
        "reportLReg = classification_report(y_test, predLReg, output_dict = True)\n",
        "\n",
        "crLReg = pd.DataFrame(reportLReg).transpose()\n",
        "logisticregression_acc=accuracy_score(y_test,predLReg)\n",
        "print(logisticregression_acc)\n",
        "print(confusion_matrix(y_test, predLReg))\n",
        "crLReg"
      ],
      "execution_count": 96,
      "outputs": [
        {
          "output_type": "stream",
          "text": [
            "0.7758620689655172\n",
            "[[22 21]\n",
            " [ 5 68]]\n"
          ],
          "name": "stdout"
        },
        {
          "output_type": "execute_result",
          "data": {
            "text/html": [
              "<div>\n",
              "<style scoped>\n",
              "    .dataframe tbody tr th:only-of-type {\n",
              "        vertical-align: middle;\n",
              "    }\n",
              "\n",
              "    .dataframe tbody tr th {\n",
              "        vertical-align: top;\n",
              "    }\n",
              "\n",
              "    .dataframe thead th {\n",
              "        text-align: right;\n",
              "    }\n",
              "</style>\n",
              "<table border=\"1\" class=\"dataframe\">\n",
              "  <thead>\n",
              "    <tr style=\"text-align: right;\">\n",
              "      <th></th>\n",
              "      <th>precision</th>\n",
              "      <th>recall</th>\n",
              "      <th>f1-score</th>\n",
              "      <th>support</th>\n",
              "    </tr>\n",
              "  </thead>\n",
              "  <tbody>\n",
              "    <tr>\n",
              "      <th>0.0</th>\n",
              "      <td>0.814815</td>\n",
              "      <td>0.511628</td>\n",
              "      <td>0.628571</td>\n",
              "      <td>43.000000</td>\n",
              "    </tr>\n",
              "    <tr>\n",
              "      <th>1.0</th>\n",
              "      <td>0.764045</td>\n",
              "      <td>0.931507</td>\n",
              "      <td>0.839506</td>\n",
              "      <td>73.000000</td>\n",
              "    </tr>\n",
              "    <tr>\n",
              "      <th>accuracy</th>\n",
              "      <td>0.775862</td>\n",
              "      <td>0.775862</td>\n",
              "      <td>0.775862</td>\n",
              "      <td>0.775862</td>\n",
              "    </tr>\n",
              "    <tr>\n",
              "      <th>macro avg</th>\n",
              "      <td>0.789430</td>\n",
              "      <td>0.721567</td>\n",
              "      <td>0.734039</td>\n",
              "      <td>116.000000</td>\n",
              "    </tr>\n",
              "    <tr>\n",
              "      <th>weighted avg</th>\n",
              "      <td>0.782865</td>\n",
              "      <td>0.775862</td>\n",
              "      <td>0.761315</td>\n",
              "      <td>116.000000</td>\n",
              "    </tr>\n",
              "  </tbody>\n",
              "</table>\n",
              "</div>"
            ],
            "text/plain": [
              "              precision    recall  f1-score     support\n",
              "0.0            0.814815  0.511628  0.628571   43.000000\n",
              "1.0            0.764045  0.931507  0.839506   73.000000\n",
              "accuracy       0.775862  0.775862  0.775862    0.775862\n",
              "macro avg      0.789430  0.721567  0.734039  116.000000\n",
              "weighted avg   0.782865  0.775862  0.761315  116.000000"
            ]
          },
          "metadata": {
            "tags": []
          },
          "execution_count": 96
        }
      ]
    },
    {
      "cell_type": "code",
      "metadata": {
        "colab": {
          "base_uri": "https://localhost:8080/"
        },
        "id": "FBYlGY0HIinh",
        "outputId": "67d21d42-7a2c-446b-f87f-6784534c3624"
      },
      "source": [
        "logisticregression_cv= cross_val_score(LReg,x,y,scoring='accuracy', cv = 3).mean()\n",
        "logisticregression_cv"
      ],
      "execution_count": 97,
      "outputs": [
        {
          "output_type": "execute_result",
          "data": {
            "text/plain": [
              "0.8128328295912493"
            ]
          },
          "metadata": {
            "tags": []
          },
          "execution_count": 97
        }
      ]
    },
    {
      "cell_type": "code",
      "metadata": {
        "colab": {
          "base_uri": "https://localhost:8080/"
        },
        "id": "G78NK_rOIT6B",
        "outputId": "54d7694a-b4d2-45b0-a962-2e504f7ea3a3"
      },
      "source": [
        "print(\"model                    \",\"accuracy           \",\"cv          \",\"difference\")\n",
        "print(\"-------------------------------------------------------------------------------------\")\n",
        "print(\"random forest            \", round(randomforest_accu,2),\"            \",round(randomforest_cv,2 ),\"               \",round(randomforest_accu-randomforest_cv,2 ))\n",
        "print(\"logisticregression       \",round(logisticregression_acc,2),\"            \",round(logisticregression_cv,2),\"               \",round(logisticregression_acc-logisticregression_cv,2 ))\n",
        "print(\"SVC                      \",round(svc_acc,2),\"            \",round(svc_cv,2),\"               \",round(svc_acc-svc_cv,2 ))\n",
        "print(\"gaussian naive bayes     \",round(gnb_acc,2),\"           \",round(gnb_cv,2),\"               \",round(gnb_acc-gnb_cv,2 ))\n",
        "print(\"decission tree classifier\",round(dtc_acc,2),\"            \",round(dtc_cv,2),\"               \",round(dtc_acc-dtc_cv,2 ))\n",
        "print(\"KNN                      \",round(knn_acc,2),\"            \",round(knn_cv,2),\"               \",round(knn_acc-knn_cv,2 ))"
      ],
      "execution_count": 107,
      "outputs": [
        {
          "output_type": "stream",
          "text": [
            "model                     accuracy            cv           difference\n",
            "-------------------------------------------------------------------------------------\n",
            "random forest             0.76              0.9                 -0.14\n",
            "logisticregression        0.78              0.81                 -0.04\n",
            "SVC                       0.78              0.69                 0.09\n",
            "gaussian naive bayes      0.79             0.81                 -0.02\n",
            "decission tree classifier 0.76              0.73                 0.03\n",
            "KNN                       0.74              0.65                 0.09\n"
          ],
          "name": "stdout"
        }
      ]
    },
    {
      "cell_type": "markdown",
      "metadata": {
        "id": "AukGVkmaL-km"
      },
      "source": [
        "### **The best model for this problem is gaussian naive bayes which gives least diff btween accuracy score and cv score.**"
      ]
    },
    {
      "cell_type": "markdown",
      "metadata": {
        "id": "PoU62qenMNre"
      },
      "source": [
        "## **7.Hyper parameter Tuning**"
      ]
    },
    {
      "cell_type": "markdown",
      "metadata": {
        "id": "UvjpLffaMStm"
      },
      "source": [
        "**finding best random state**"
      ]
    },
    {
      "cell_type": "code",
      "metadata": {
        "colab": {
          "base_uri": "https://localhost:8080/"
        },
        "id": "oN1NHwL0LVJK",
        "outputId": "63de1491-183f-48f7-bb8f-eb619e3213c5"
      },
      "source": [
        "#FINDING BEST RANDOM STATE\n",
        "\n",
        "from sklearn.metrics import r2_score\n",
        "d=5\n",
        "for i in range(0,100):\n",
        "  x_train, x_test, y_train, y_test = train_test_split(x,y,test_size=0.2,random_state=i)\n",
        "  DTC.fit(x_train,y_train)\n",
        "  pred_train=DTC.predict(x_train)\n",
        "  pred_test = DTC.predict(x_test)\n",
        "  a=r2_score(y_train,pred_train)\n",
        "  b=r2_score(y_test,pred_test)\n",
        "  c=a-b\n",
        "  print(i,c)\n",
        "  if d>=c:\n",
        "    d=c\n",
        "    print(\"least value\",i,d)"
      ],
      "execution_count": 128,
      "outputs": [
        {
          "output_type": "stream",
          "text": [
            "0 1.3519813519813517\n",
            "least value 0 1.3519813519813517\n",
            "1 1.5246440306681268\n",
            "2 1.5263157894736843\n",
            "3 1.3291666666666662\n",
            "least value 3 1.3291666666666662\n",
            "4 1.1570141570141568\n",
            "least value 4 1.1570141570141568\n",
            "5 1.3697705802968965\n",
            "6 1.1585518102372032\n",
            "7 0.933075933075933\n",
            "least value 7 0.933075933075933\n",
            "8 0.9808130081300812\n",
            "9 1.3730272596843618\n",
            "10 1.3206831119544589\n",
            "11 1.244949494949495\n",
            "12 1.0137328339575526\n",
            "13 1.4097222222222219\n",
            "14 1.4926470588235299\n",
            "15 1.2083333333333335\n",
            "16 1.478177763618987\n",
            "17 1.5407969639468686\n",
            "18 1.2689832689832687\n",
            "19 1.3133533133533133\n",
            "20 1.2888888888888883\n",
            "21 1.3911816578483243\n",
            "22 1.3093474426807756\n",
            "23 1.3957723577235772\n",
            "24 1.539454806312769\n",
            "25 1.4184782608695652\n",
            "26 1.2360972360972362\n",
            "27 1.3697705802968965\n",
            "28 1.391181657848324\n",
            "29 1.251927227875424\n",
            "30 1.2888888888888885\n",
            "31 1.1974691974691973\n",
            "32 1.3306342780026992\n",
            "33 1.5172413793103448\n",
            "34 1.3149509803921573\n",
            "35 1.530555555555555\n",
            "36 1.3694444444444442\n",
            "37 1.545121545121545\n",
            "38 1.4399415845198975\n",
            "39 0.7365079365079363\n",
            "least value 39 0.7365079365079363\n",
            "40 1.3975903614457827\n",
            "41 1.4967741935483867\n",
            "42 1.584819734345351\n",
            "43 1.3377976190476193\n",
            "44 1.6288425047438329\n",
            "45 1.1828947368421054\n",
            "46 1.2898134863701578\n",
            "47 1.0716788786237654\n",
            "48 1.4902777777777774\n",
            "49 1.1828947368421054\n",
            "50 1.006944444444444\n",
            "51 1.4399415845198975\n",
            "52 1.1233859397417503\n",
            "53 1.4500000000000002\n",
            "54 1.106578947368421\n",
            "55 1.391181657848324\n",
            "56 1.2873563218390804\n",
            "57 1.0823680823680824\n",
            "58 1.3093474426807756\n",
            "59 1.1858342460752098\n",
            "60 1.397590361445783\n",
            "61 1.2888888888888883\n",
            "62 1.3911816578483238\n",
            "63 1.4286691755046188\n",
            "64 1.3697705802968962\n",
            "65 1.2608695652173916\n",
            "66 1.933333333333333\n",
            "67 1.335526315789474\n",
            "68 1.7471264367816093\n",
            "69 1.2699281560041056\n",
            "70 1.194337194337194\n",
            "71 1.1588411588411587\n",
            "72 1.1277777777777775\n",
            "73 1.194337194337194\n",
            "74 1.161815336463224\n",
            "75 1.5246440306681268\n",
            "76 1.2248447204968946\n",
            "77 1.1317073170731708\n",
            "78 1.3552391383716682\n",
            "79 1.1689922480620152\n",
            "80 1.4480431848852904\n",
            "81 1.5708333333333329\n",
            "82 1.3038759689922477\n",
            "83 1.2898134863701578\n",
            "84 1.7889610389610384\n",
            "85 1.4089068825910935\n",
            "86 1.1828947368421054\n",
            "87 1.418275418275418\n",
            "88 1.5263157894736843\n",
            "89 1.8124999999999996\n",
            "90 1.0069444444444442\n",
            "91 1.3652597402597402\n",
            "92 1.3736842105263158\n",
            "93 1.252361673414305\n",
            "94 1.7471264367816093\n",
            "95 1.1689922480620152\n",
            "96 1.289813486370158\n",
            "97 1.452751423149905\n",
            "98 1.2826016260162603\n",
            "99 1.391181657848324\n"
          ],
          "name": "stdout"
        }
      ]
    },
    {
      "cell_type": "code",
      "metadata": {
        "id": "Dnk2AYp7LanD"
      },
      "source": [
        "x_train, x_test, y_train, y_test = train_test_split(x,y,test_size=0.2,random_state=39)"
      ],
      "execution_count": 154,
      "outputs": []
    },
    {
      "cell_type": "code",
      "metadata": {
        "colab": {
          "base_uri": "https://localhost:8080/"
        },
        "id": "nU0KDPdRIWEq",
        "outputId": "5285e375-daa9-4cf5-c773-9e3d32236d6d"
      },
      "source": [
        "from sklearn.model_selection import GridSearchCV\n",
        "nb_classifier = GaussianNB()\n",
        "\n",
        "params_NB = {'var_smoothing': np.logspace(0,-9, num=100)}\n",
        "gs_NB = GridSearchCV(estimator=nb_classifier, \n",
        "                 param_grid=params_NB, \n",
        "                 cv=5,   # use any cross validation technique \n",
        "                 verbose=1, \n",
        "                 scoring='accuracy') \n",
        "gs_NB.fit(x_train, y_train)"
      ],
      "execution_count": 125,
      "outputs": [
        {
          "output_type": "stream",
          "text": [
            "Fitting 5 folds for each of 100 candidates, totalling 500 fits\n"
          ],
          "name": "stdout"
        },
        {
          "output_type": "stream",
          "text": [
            "[Parallel(n_jobs=1)]: Using backend SequentialBackend with 1 concurrent workers.\n",
            "[Parallel(n_jobs=1)]: Done 500 out of 500 | elapsed:    1.4s finished\n"
          ],
          "name": "stderr"
        },
        {
          "output_type": "execute_result",
          "data": {
            "text/plain": [
              "GridSearchCV(cv=5, error_score=nan,\n",
              "             estimator=GaussianNB(priors=None, var_smoothing=1e-09),\n",
              "             iid='deprecated', n_jobs=None,\n",
              "             param_grid={'var_smoothing': array([1.00000000e+00, 8.11130831e-01, 6.57933225e-01, 5.33669923e-01,\n",
              "       4.32876128e-01, 3.51119173e-01, 2.84803587e-01, 2.31012970e-01,\n",
              "       1.87381742e-01, 1.51991108e-01, 1.23284674e-01, 1.00000000e-01,\n",
              "       8.11130831e-02, 6.5...\n",
              "       5.33669923e-08, 4.32876128e-08, 3.51119173e-08, 2.84803587e-08,\n",
              "       2.31012970e-08, 1.87381742e-08, 1.51991108e-08, 1.23284674e-08,\n",
              "       1.00000000e-08, 8.11130831e-09, 6.57933225e-09, 5.33669923e-09,\n",
              "       4.32876128e-09, 3.51119173e-09, 2.84803587e-09, 2.31012970e-09,\n",
              "       1.87381742e-09, 1.51991108e-09, 1.23284674e-09, 1.00000000e-09])},\n",
              "             pre_dispatch='2*n_jobs', refit=True, return_train_score=False,\n",
              "             scoring='accuracy', verbose=1)"
            ]
          },
          "metadata": {
            "tags": []
          },
          "execution_count": 125
        }
      ]
    },
    {
      "cell_type": "code",
      "metadata": {
        "colab": {
          "base_uri": "https://localhost:8080/"
        },
        "id": "qHWT5oO4Idex",
        "outputId": "2a2584a9-24bd-4574-ad4e-1429981a150b"
      },
      "source": [
        "gs_NB.best_params_"
      ],
      "execution_count": 126,
      "outputs": [
        {
          "output_type": "execute_result",
          "data": {
            "text/plain": [
              "{'var_smoothing': 1e-05}"
            ]
          },
          "metadata": {
            "tags": []
          },
          "execution_count": 126
        }
      ]
    },
    {
      "cell_type": "code",
      "metadata": {
        "colab": {
          "base_uri": "https://localhost:8080/",
          "height": 216
        },
        "id": "pISyHcDKIePK",
        "outputId": "7413187c-27e2-4945-b534-c33ca9ec0d69"
      },
      "source": [
        "from sklearn.naive_bayes import GaussianNB\n",
        "GNB = GaussianNB(var_smoothing = 1e-05)\n",
        "\n",
        "GNB.fit(x_train,y_train)\n",
        "\n",
        "predGNB = GNB.predict(x_test)\n",
        "\n",
        "reportGNB = classification_report(y_test, predGNB, output_dict = True)\n",
        "  \n",
        "crGNB = pd.DataFrame(reportGNB).transpose()\n",
        "gnb_acc=accuracy_score(y_test,predGNB)\n",
        "print(gnb_acc)\n",
        "crGNB"
      ],
      "execution_count": 127,
      "outputs": [
        {
          "output_type": "stream",
          "text": [
            "0.8879310344827587\n"
          ],
          "name": "stdout"
        },
        {
          "output_type": "execute_result",
          "data": {
            "text/html": [
              "<div>\n",
              "<style scoped>\n",
              "    .dataframe tbody tr th:only-of-type {\n",
              "        vertical-align: middle;\n",
              "    }\n",
              "\n",
              "    .dataframe tbody tr th {\n",
              "        vertical-align: top;\n",
              "    }\n",
              "\n",
              "    .dataframe thead th {\n",
              "        text-align: right;\n",
              "    }\n",
              "</style>\n",
              "<table border=\"1\" class=\"dataframe\">\n",
              "  <thead>\n",
              "    <tr style=\"text-align: right;\">\n",
              "      <th></th>\n",
              "      <th>precision</th>\n",
              "      <th>recall</th>\n",
              "      <th>f1-score</th>\n",
              "      <th>support</th>\n",
              "    </tr>\n",
              "  </thead>\n",
              "  <tbody>\n",
              "    <tr>\n",
              "      <th>0.0</th>\n",
              "      <td>1.000000</td>\n",
              "      <td>0.628571</td>\n",
              "      <td>0.771930</td>\n",
              "      <td>35.000000</td>\n",
              "    </tr>\n",
              "    <tr>\n",
              "      <th>1.0</th>\n",
              "      <td>0.861702</td>\n",
              "      <td>1.000000</td>\n",
              "      <td>0.925714</td>\n",
              "      <td>81.000000</td>\n",
              "    </tr>\n",
              "    <tr>\n",
              "      <th>accuracy</th>\n",
              "      <td>0.887931</td>\n",
              "      <td>0.887931</td>\n",
              "      <td>0.887931</td>\n",
              "      <td>0.887931</td>\n",
              "    </tr>\n",
              "    <tr>\n",
              "      <th>macro avg</th>\n",
              "      <td>0.930851</td>\n",
              "      <td>0.814286</td>\n",
              "      <td>0.848822</td>\n",
              "      <td>116.000000</td>\n",
              "    </tr>\n",
              "    <tr>\n",
              "      <th>weighted avg</th>\n",
              "      <td>0.903430</td>\n",
              "      <td>0.887931</td>\n",
              "      <td>0.879314</td>\n",
              "      <td>116.000000</td>\n",
              "    </tr>\n",
              "  </tbody>\n",
              "</table>\n",
              "</div>"
            ],
            "text/plain": [
              "              precision    recall  f1-score     support\n",
              "0.0            1.000000  0.628571  0.771930   35.000000\n",
              "1.0            0.861702  1.000000  0.925714   81.000000\n",
              "accuracy       0.887931  0.887931  0.887931    0.887931\n",
              "macro avg      0.930851  0.814286  0.848822  116.000000\n",
              "weighted avg   0.903430  0.887931  0.879314  116.000000"
            ]
          },
          "metadata": {
            "tags": []
          },
          "execution_count": 127
        }
      ]
    },
    {
      "cell_type": "code",
      "metadata": {
        "colab": {
          "base_uri": "https://localhost:8080/"
        },
        "id": "kNLhsiz7Izzy",
        "outputId": "97ff3e2e-4f38-4f17-ec68-f1e65b6968e9"
      },
      "source": [
        "gnb_cv=cross_val_score(GNB,x,y,scoring='accuracy', cv = 5).mean()\n",
        "gnb_cv"
      ],
      "execution_count": 129,
      "outputs": [
        {
          "output_type": "execute_result",
          "data": {
            "text/plain": [
              "0.8146026986506746"
            ]
          },
          "metadata": {
            "tags": []
          },
          "execution_count": 129
        }
      ]
    },
    {
      "cell_type": "markdown",
      "metadata": {
        "id": "6vnAj56LOaNh"
      },
      "source": [
        "### **The best model is Gaussian NB with 88% accuracy**"
      ]
    },
    {
      "cell_type": "markdown",
      "metadata": {
        "id": "LB_1XMp4PiEw"
      },
      "source": [
        "## **8.Evaluation metrics**"
      ]
    },
    {
      "cell_type": "code",
      "metadata": {
        "id": "oQcq_6oOQLxW"
      },
      "source": [
        "from sklearn.datasets import make_circles\n",
        "from sklearn.metrics import accuracy_score\n",
        "from sklearn.metrics import precision_score\n",
        "from sklearn.metrics import recall_score\n",
        "from sklearn.metrics import f1_score\n",
        "from sklearn.metrics import roc_auc_score\n",
        "from sklearn.metrics import confusion_matrix"
      ],
      "execution_count": 135,
      "outputs": []
    },
    {
      "cell_type": "code",
      "metadata": {
        "colab": {
          "base_uri": "https://localhost:8080/"
        },
        "id": "PoFKLzBpRXAP",
        "outputId": "38bde9fd-5e11-40fc-fbaf-85c856729171"
      },
      "source": [
        "print(\"------------------------------------------\")\n",
        "print(\"GaussianNB\")\n",
        "print(\"-----------------------------------------\")\n",
        "# accuracy: (tp + tn) / (p + n)\n",
        "accuracy_gnb = gnb_acc\n",
        "print('Accuracy: %f' % accuracy_gnb)\n",
        "# precision tp / (tp + fp)\n",
        "precision_gnb = precision_score(y_test, predGNB)\n",
        "print('Precision: %f' % precision_gnb)\n",
        "# recall: tp / (tp + fn)\n",
        "recall_gnb = recall_score(y_test, predGNB)\n",
        "print('Recall: %f' % recall_gnb)\n",
        "# f1: 2 tp / (2 tp + fp + fn)\n",
        "f1_gnb = f1_score(y_test, predGNB)\n",
        "print('F1 score: %f' % f1_gnb)"
      ],
      "execution_count": 141,
      "outputs": [
        {
          "output_type": "stream",
          "text": [
            "------------------------------------------\n",
            "GaussianNB\n",
            "-----------------------------------------\n",
            "Accuracy: 0.887931\n",
            "Precision: 0.691489\n",
            "Recall: 0.802469\n",
            "F1 score: 0.742857\n"
          ],
          "name": "stdout"
        }
      ]
    },
    {
      "cell_type": "markdown",
      "metadata": {
        "id": "F3dyRwWHQBZ5"
      },
      "source": [
        "### **roc_auc_score**"
      ]
    },
    {
      "cell_type": "code",
      "metadata": {
        "id": "gEaS9Oh2Oqzu"
      },
      "source": [
        "# train models\n",
        "model1 = GaussianNB()\n",
        "\n",
        "# fit model\n",
        "model1.fit(x_train, y_train)\n",
        "\n",
        "# predict probabilities\n",
        "pred_prob1 = model1.predict_proba(x_test)"
      ],
      "execution_count": 150,
      "outputs": []
    },
    {
      "cell_type": "code",
      "metadata": {
        "id": "cQuqO17wO6mF"
      },
      "source": [
        "from sklearn.metrics import roc_curve\n",
        "\n",
        "# roc curve for models\n",
        "fpr1, tpr1, thresh1 = roc_curve(y_test, pred_prob1[:,1], pos_label=1)\n",
        "\n",
        "# roc curve for tpr = fpr \n",
        "random_probs = [0 for i in range(len(y_test))]\n",
        "p_fpr, p_tpr, _ = roc_curve(y_test, random_probs, pos_label=1)"
      ],
      "execution_count": 151,
      "outputs": []
    },
    {
      "cell_type": "code",
      "metadata": {
        "colab": {
          "base_uri": "https://localhost:8080/"
        },
        "id": "62JIkbuBO_c5",
        "outputId": "1b0656f0-9e23-4697-d6a3-2fbfca3adccc"
      },
      "source": [
        "from sklearn.metrics import roc_auc_score\n",
        "\n",
        "# auc scores\n",
        "auc_score1 = roc_auc_score(y_test, pred_prob1[:,1])\n",
        "\n",
        "print(auc_score1)"
      ],
      "execution_count": 152,
      "outputs": [
        {
          "output_type": "stream",
          "text": [
            "0.7202821869488536\n"
          ],
          "name": "stdout"
        }
      ]
    },
    {
      "cell_type": "markdown",
      "metadata": {
        "id": "YTPbOkKXP0xw"
      },
      "source": [
        "## **9.Model saving**"
      ]
    },
    {
      "cell_type": "code",
      "metadata": {
        "colab": {
          "base_uri": "https://localhost:8080/"
        },
        "id": "ebKKLQK8RlSf",
        "outputId": "65b906c6-fd8d-4b68-add9-a686511cbf09"
      },
      "source": [
        "import joblib\n",
        "joblib.dump(GNB,\"final model.pkl\")"
      ],
      "execution_count": 142,
      "outputs": [
        {
          "output_type": "execute_result",
          "data": {
            "text/plain": [
              "['final model.pkl']"
            ]
          },
          "metadata": {
            "tags": []
          },
          "execution_count": 142
        }
      ]
    }
  ]
}